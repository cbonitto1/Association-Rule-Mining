{
 "cells": [
  {
   "cell_type": "code",
   "execution_count": 1,
   "metadata": {
    "_cell_guid": "b1076dfc-b9ad-4769-8c92-a6c4dae69d19",
    "_uuid": "8f2839f25d086af736a60e9eeb907d3b93b6e0e5",
    "execution": {
     "iopub.execute_input": "2021-02-22T23:44:53.299615Z",
     "iopub.status.busy": "2021-02-22T23:44:53.298865Z",
     "iopub.status.idle": "2021-02-22T23:44:53.302495Z",
     "shell.execute_reply": "2021-02-22T23:44:53.301883Z"
    },
    "papermill": {
     "duration": 0.027269,
     "end_time": "2021-02-22T23:44:53.302713",
     "exception": false,
     "start_time": "2021-02-22T23:44:53.275444",
     "status": "completed"
    },
    "tags": []
   },
   "outputs": [],
   "source": [
    "# This Python 3 environment comes with many helpful analytics libraries installed\n",
    "# It is defined by the kaggle/python Docker image: https://github.com/kaggle/docker-python\n",
    "# For example, here's several helpful packages to load\n",
    "\n",
    "import numpy as np # linear algebra\n",
    "import pandas as pd # data processing, CSV file I/O (e.g. pd.read_csv)\n",
    "\n",
    "# Input data files are available in the read-only \"../input/\" directory\n",
    "# For example, running this (by clicking run or pressing Shift+Enter) will list all files under the input directory\n",
    "\n",
    "import os\n",
    "for dirname, _, filenames in os.walk('/kaggle/input'):\n",
    "    for filename in filenames:\n",
    "        print(os.path.join(dirname, filename))\n",
    "\n",
    "# You can write up to 20GB to the current directory (/kaggle/working/) that gets preserved as output when you create a version using \"Save & Run All\" \n",
    "# You can also write temporary files to /kaggle/temp/, but they won't be saved outside of the current session"
   ]
  },
  {
   "cell_type": "markdown",
   "metadata": {
    "papermill": {
     "duration": 0.013842,
     "end_time": "2021-02-22T23:44:53.331382",
     "exception": false,
     "start_time": "2021-02-22T23:44:53.317540",
     "status": "completed"
    },
    "tags": []
   },
   "source": [
    "The most common ways in which businesses segment their customer base are:\n",
    "\n",
    "   1) Demographic information, such as gender, age, familial and marital status, income, education, and occupation.\n",
    "   2) Geographical information, which differs depending on the scope of the company. For localized businesses, this info might pertain to specific towns or counties. For larger companies, it might mean a customer’s city, state, or even country of residence.\n",
    "   3) Psychographics, such as social class, lifestyle, and personality traits.\n",
    "*******Model Focus =    4) Behavioral data, such as spending and consumption habits, product/service usage, and desired benefits."
   ]
  },
  {
   "cell_type": "markdown",
   "metadata": {
    "papermill": {
     "duration": 0.013791,
     "end_time": "2021-02-22T23:44:53.359474",
     "exception": false,
     "start_time": "2021-02-22T23:44:53.345683",
     "status": "completed"
    },
    "tags": []
   },
   "source": [
    "Essentially, you are finding out how likely a person will purchase another product based on their previous product purchase history"
   ]
  },
  {
   "cell_type": "markdown",
   "metadata": {
    "papermill": {
     "duration": 0.013866,
     "end_time": "2021-02-22T23:44:53.387718",
     "exception": false,
     "start_time": "2021-02-22T23:44:53.373852",
     "status": "completed"
    },
    "tags": []
   },
   "source": []
  },
  {
   "cell_type": "markdown",
   "metadata": {
    "papermill": {
     "duration": 0.013892,
     "end_time": "2021-02-22T23:44:53.415738",
     "exception": false,
     "start_time": "2021-02-22T23:44:53.401846",
     "status": "completed"
    },
    "tags": []
   },
   "source": []
  },
  {
   "cell_type": "markdown",
   "metadata": {
    "papermill": {
     "duration": 0.013889,
     "end_time": "2021-02-22T23:44:53.443798",
     "exception": false,
     "start_time": "2021-02-22T23:44:53.429909",
     "status": "completed"
    },
    "tags": []
   },
   "source": []
  },
  {
   "cell_type": "code",
   "execution_count": 2,
   "metadata": {
    "execution": {
     "iopub.execute_input": "2021-02-22T23:44:53.488335Z",
     "iopub.status.busy": "2021-02-22T23:44:53.476943Z",
     "iopub.status.idle": "2021-02-22T23:45:15.607418Z",
     "shell.execute_reply": "2021-02-22T23:45:15.606755Z"
    },
    "papermill": {
     "duration": 22.149641,
     "end_time": "2021-02-22T23:45:15.607617",
     "exception": false,
     "start_time": "2021-02-22T23:44:53.457976",
     "status": "completed"
    },
    "tags": []
   },
   "outputs": [
    {
     "name": "stdout",
     "output_type": "stream",
     "text": [
      "Collecting pycaret\r\n",
      "  Downloading pycaret-2.3.0-py3-none-any.whl (261 kB)\r\n",
      "\u001b[K     |████████████████████████████████| 261 kB 1.2 MB/s \r\n",
      "\u001b[?25hRequirement already satisfied: seaborn in /opt/conda/lib/python3.7/site-packages (from pycaret) (0.11.1)\r\n",
      "Requirement already satisfied: pandas-profiling>=2.8.0 in /opt/conda/lib/python3.7/site-packages (from pycaret) (2.8.0)\r\n",
      "Requirement already satisfied: mlxtend in /opt/conda/lib/python3.7/site-packages (from pycaret) (0.18.0)\r\n",
      "Requirement already satisfied: imbalanced-learn>=0.7.0 in /opt/conda/lib/python3.7/site-packages (from pycaret) (0.7.0)\r\n",
      "Requirement already satisfied: plotly>=4.4.1 in /opt/conda/lib/python3.7/site-packages (from pycaret) (4.14.3)\r\n",
      "Requirement already satisfied: wordcloud in /opt/conda/lib/python3.7/site-packages (from pycaret) (1.8.1)\r\n",
      "Requirement already satisfied: scikit-plot in /opt/conda/lib/python3.7/site-packages (from pycaret) (0.3.7)\r\n",
      "Requirement already satisfied: nltk in /opt/conda/lib/python3.7/site-packages (from pycaret) (3.2.4)\r\n",
      "Requirement already satisfied: pyLDAvis in /opt/conda/lib/python3.7/site-packages (from pycaret) (3.1.0)\r\n",
      "Requirement already satisfied: spacy<2.4.0 in /opt/conda/lib/python3.7/site-packages (from pycaret) (2.3.5)\r\n",
      "Requirement already satisfied: yellowbrick>=1.0.1 in /opt/conda/lib/python3.7/site-packages (from pycaret) (1.3)\r\n",
      "Requirement already satisfied: gensim in /opt/conda/lib/python3.7/site-packages (from pycaret) (3.8.3)\r\n",
      "Requirement already satisfied: cufflinks>=0.17.0 in /opt/conda/lib/python3.7/site-packages (from pycaret) (0.17.3)\r\n",
      "Collecting pyod\r\n",
      "  Downloading pyod-0.8.7.tar.gz (101 kB)\r\n",
      "\u001b[K     |████████████████████████████████| 101 kB 3.6 MB/s \r\n",
      "\u001b[?25hRequirement already satisfied: matplotlib in /opt/conda/lib/python3.7/site-packages (from pycaret) (3.3.3)\r\n",
      "Requirement already satisfied: numpy==1.19.5 in /opt/conda/lib/python3.7/site-packages (from pycaret) (1.19.5)\r\n",
      "Requirement already satisfied: textblob in /opt/conda/lib/python3.7/site-packages (from pycaret) (0.15.3)\r\n",
      "Requirement already satisfied: IPython in /opt/conda/lib/python3.7/site-packages (from pycaret) (7.19.0)\r\n",
      "Requirement already satisfied: ipywidgets in /opt/conda/lib/python3.7/site-packages (from pycaret) (7.6.2)\r\n",
      "Requirement already satisfied: scipy<=1.5.4 in /opt/conda/lib/python3.7/site-packages (from pycaret) (1.4.1)\r\n",
      "Requirement already satisfied: umap-learn in /opt/conda/lib/python3.7/site-packages (from pycaret) (0.5.1)\r\n",
      "Requirement already satisfied: kmodes>=0.10.1 in /opt/conda/lib/python3.7/site-packages (from pycaret) (0.10.2)\r\n",
      "Collecting mlflow\r\n",
      "  Downloading mlflow-1.14.0-py3-none-any.whl (14.2 MB)\r\n",
      "\u001b[K     |████████████████████████████████| 14.2 MB 10.3 MB/s \r\n",
      "\u001b[?25hRequirement already satisfied: scikit-learn==0.23.2 in /opt/conda/lib/python3.7/site-packages (from pycaret) (0.23.2)\r\n",
      "Requirement already satisfied: joblib in /opt/conda/lib/python3.7/site-packages (from pycaret) (1.0.0)\r\n",
      "Requirement already satisfied: lightgbm>=2.3.1 in /opt/conda/lib/python3.7/site-packages (from pycaret) (3.1.1)\r\n",
      "Requirement already satisfied: pandas in /opt/conda/lib/python3.7/site-packages (from pycaret) (1.2.0)\r\n",
      "Requirement already satisfied: Boruta in /opt/conda/lib/python3.7/site-packages (from pycaret) (0.3)\r\n",
      "Requirement already satisfied: threadpoolctl>=2.0.0 in /opt/conda/lib/python3.7/site-packages (from scikit-learn==0.23.2->pycaret) (2.1.0)\r\n",
      "Requirement already satisfied: colorlover>=0.2.1 in /opt/conda/lib/python3.7/site-packages (from cufflinks>=0.17.0->pycaret) (0.3.0)\r\n",
      "Requirement already satisfied: six>=1.9.0 in /opt/conda/lib/python3.7/site-packages (from cufflinks>=0.17.0->pycaret) (1.15.0)\r\n",
      "Requirement already satisfied: setuptools>=34.4.1 in /opt/conda/lib/python3.7/site-packages (from cufflinks>=0.17.0->pycaret) (49.6.0.post20201009)\r\n",
      "Requirement already satisfied: decorator in /opt/conda/lib/python3.7/site-packages (from IPython->pycaret) (4.4.2)\r\n",
      "Requirement already satisfied: prompt-toolkit!=3.0.0,!=3.0.1,<3.1.0,>=2.0.0 in /opt/conda/lib/python3.7/site-packages (from IPython->pycaret) (3.0.8)\r\n",
      "Requirement already satisfied: pickleshare in /opt/conda/lib/python3.7/site-packages (from IPython->pycaret) (0.7.5)\r\n",
      "Requirement already satisfied: jedi>=0.10 in /opt/conda/lib/python3.7/site-packages (from IPython->pycaret) (0.17.2)\r\n",
      "Requirement already satisfied: pygments in /opt/conda/lib/python3.7/site-packages (from IPython->pycaret) (2.7.3)\r\n",
      "Requirement already satisfied: pexpect>4.3 in /opt/conda/lib/python3.7/site-packages (from IPython->pycaret) (4.8.0)\r\n",
      "Requirement already satisfied: traitlets>=4.2 in /opt/conda/lib/python3.7/site-packages (from IPython->pycaret) (5.0.5)\r\n",
      "Requirement already satisfied: backcall in /opt/conda/lib/python3.7/site-packages (from IPython->pycaret) (0.2.0)\r\n",
      "Requirement already satisfied: ipykernel>=4.5.1 in /opt/conda/lib/python3.7/site-packages (from ipywidgets->pycaret) (5.1.1)\r\n",
      "Requirement already satisfied: widgetsnbextension~=3.5.0 in /opt/conda/lib/python3.7/site-packages (from ipywidgets->pycaret) (3.5.1)\r\n",
      "Requirement already satisfied: nbformat>=4.2.0 in /opt/conda/lib/python3.7/site-packages (from ipywidgets->pycaret) (5.0.8)\r\n",
      "Requirement already satisfied: jupyterlab-widgets>=1.0.0 in /opt/conda/lib/python3.7/site-packages (from ipywidgets->pycaret) (1.0.0)\r\n",
      "Requirement already satisfied: jupyter-client in /opt/conda/lib/python3.7/site-packages (from ipykernel>=4.5.1->ipywidgets->pycaret) (6.1.7)\r\n",
      "Requirement already satisfied: tornado>=4.2 in /opt/conda/lib/python3.7/site-packages (from ipykernel>=4.5.1->ipywidgets->pycaret) (5.0.2)\r\n",
      "Requirement already satisfied: parso<0.8.0,>=0.7.0 in /opt/conda/lib/python3.7/site-packages (from jedi>=0.10->IPython->pycaret) (0.7.1)\r\n",
      "Requirement already satisfied: wheel in /opt/conda/lib/python3.7/site-packages (from lightgbm>=2.3.1->pycaret) (0.36.2)\r\n",
      "Requirement already satisfied: ipython-genutils in /opt/conda/lib/python3.7/site-packages (from nbformat>=4.2.0->ipywidgets->pycaret) (0.2.0)\r\n",
      "Requirement already satisfied: jupyter-core in /opt/conda/lib/python3.7/site-packages (from nbformat>=4.2.0->ipywidgets->pycaret) (4.7.0)\r\n",
      "Requirement already satisfied: jsonschema!=2.5.0,>=2.4 in /opt/conda/lib/python3.7/site-packages (from nbformat>=4.2.0->ipywidgets->pycaret) (3.2.0)\r\n",
      "Requirement already satisfied: pyrsistent>=0.14.0 in /opt/conda/lib/python3.7/site-packages (from jsonschema!=2.5.0,>=2.4->nbformat>=4.2.0->ipywidgets->pycaret) (0.17.3)\r\n",
      "Requirement already satisfied: attrs>=17.4.0 in /opt/conda/lib/python3.7/site-packages (from jsonschema!=2.5.0,>=2.4->nbformat>=4.2.0->ipywidgets->pycaret) (20.3.0)\r\n",
      "Requirement already satisfied: importlib-metadata in /opt/conda/lib/python3.7/site-packages (from jsonschema!=2.5.0,>=2.4->nbformat>=4.2.0->ipywidgets->pycaret) (3.3.0)\r\n",
      "Requirement already satisfied: python-dateutil>=2.7.3 in /opt/conda/lib/python3.7/site-packages (from pandas->pycaret) (2.8.1)\r\n",
      "Requirement already satisfied: pytz>=2017.3 in /opt/conda/lib/python3.7/site-packages (from pandas->pycaret) (2020.5)\r\n",
      "Requirement already satisfied: requests>=2.23.0 in /opt/conda/lib/python3.7/site-packages (from pandas-profiling>=2.8.0->pycaret) (2.25.1)\r\n",
      "Requirement already satisfied: visions[type_image_path]==0.4.4 in /opt/conda/lib/python3.7/site-packages (from pandas-profiling>=2.8.0->pycaret) (0.4.4)\r\n",
      "Requirement already satisfied: htmlmin>=0.1.12 in /opt/conda/lib/python3.7/site-packages (from pandas-profiling>=2.8.0->pycaret) (0.1.12)\r\n",
      "Requirement already satisfied: missingno>=0.4.2 in /opt/conda/lib/python3.7/site-packages (from pandas-profiling>=2.8.0->pycaret) (0.4.2)\r\n",
      "Requirement already satisfied: jinja2>=2.11.1 in /opt/conda/lib/python3.7/site-packages (from pandas-profiling>=2.8.0->pycaret) (2.11.2)\r\n",
      "Requirement already satisfied: tangled-up-in-unicode>=0.0.6 in /opt/conda/lib/python3.7/site-packages (from pandas-profiling>=2.8.0->pycaret) (0.0.6)\r\n",
      "Requirement already satisfied: astropy>=4.0 in /opt/conda/lib/python3.7/site-packages (from pandas-profiling>=2.8.0->pycaret) (4.2)\r\n",
      "Requirement already satisfied: confuse>=1.0.0 in /opt/conda/lib/python3.7/site-packages (from pandas-profiling>=2.8.0->pycaret) (1.4.0)\r\n",
      "Requirement already satisfied: tqdm>=4.43.0 in /opt/conda/lib/python3.7/site-packages (from pandas-profiling>=2.8.0->pycaret) (4.55.1)\r\n",
      "Requirement already satisfied: phik>=0.9.10 in /opt/conda/lib/python3.7/site-packages (from pandas-profiling>=2.8.0->pycaret) (0.10.0)\r\n",
      "Requirement already satisfied: networkx>=2.4 in /opt/conda/lib/python3.7/site-packages (from visions[type_image_path]==0.4.4->pandas-profiling>=2.8.0->pycaret) (2.5)\r\n",
      "Requirement already satisfied: Pillow in /opt/conda/lib/python3.7/site-packages (from visions[type_image_path]==0.4.4->pandas-profiling>=2.8.0->pycaret) (7.2.0)\r\n",
      "Requirement already satisfied: imagehash in /opt/conda/lib/python3.7/site-packages (from visions[type_image_path]==0.4.4->pandas-profiling>=2.8.0->pycaret) (4.2.0)\r\n",
      "Requirement already satisfied: pyerfa in /opt/conda/lib/python3.7/site-packages (from astropy>=4.0->pandas-profiling>=2.8.0->pycaret) (1.7.1.1)\r\n",
      "Requirement already satisfied: pyyaml in /opt/conda/lib/python3.7/site-packages (from confuse>=1.0.0->pandas-profiling>=2.8.0->pycaret) (5.3.1)\r\n",
      "Requirement already satisfied: MarkupSafe>=0.23 in /opt/conda/lib/python3.7/site-packages (from jinja2>=2.11.1->pandas-profiling>=2.8.0->pycaret) (1.1.1)\r\n",
      "Requirement already satisfied: cycler>=0.10 in /opt/conda/lib/python3.7/site-packages (from matplotlib->pycaret) (0.10.0)\r\n",
      "Requirement already satisfied: pyparsing!=2.0.4,!=2.1.2,!=2.1.6,>=2.0.3 in /opt/conda/lib/python3.7/site-packages (from matplotlib->pycaret) (2.4.7)\r\n",
      "Requirement already satisfied: kiwisolver>=1.0.1 in /opt/conda/lib/python3.7/site-packages (from matplotlib->pycaret) (1.3.1)\r\n",
      "Requirement already satisfied: ptyprocess>=0.5 in /opt/conda/lib/python3.7/site-packages (from pexpect>4.3->IPython->pycaret) (0.7.0)\r\n",
      "Requirement already satisfied: numba>=0.38.1 in /opt/conda/lib/python3.7/site-packages (from phik>=0.9.10->pandas-profiling>=2.8.0->pycaret) (0.52.0)\r\n",
      "Requirement already satisfied: llvmlite<0.36,>=0.35.0 in /opt/conda/lib/python3.7/site-packages (from numba>=0.38.1->phik>=0.9.10->pandas-profiling>=2.8.0->pycaret) (0.35.0)\r\n",
      "Requirement already satisfied: retrying>=1.3.3 in /opt/conda/lib/python3.7/site-packages (from plotly>=4.4.1->pycaret) (1.3.3)\r\n",
      "Requirement already satisfied: wcwidth in /opt/conda/lib/python3.7/site-packages (from prompt-toolkit!=3.0.0,!=3.0.1,<3.1.0,>=2.0.0->IPython->pycaret) (0.2.5)\r\n",
      "Requirement already satisfied: certifi>=2017.4.17 in /opt/conda/lib/python3.7/site-packages (from requests>=2.23.0->pandas-profiling>=2.8.0->pycaret) (2020.12.5)\r\n",
      "Requirement already satisfied: urllib3<1.27,>=1.21.1 in /opt/conda/lib/python3.7/site-packages (from requests>=2.23.0->pandas-profiling>=2.8.0->pycaret) (1.26.2)\r\n",
      "Requirement already satisfied: idna<3,>=2.5 in /opt/conda/lib/python3.7/site-packages (from requests>=2.23.0->pandas-profiling>=2.8.0->pycaret) (2.10)\r\n",
      "Requirement already satisfied: chardet<5,>=3.0.2 in /opt/conda/lib/python3.7/site-packages (from requests>=2.23.0->pandas-profiling>=2.8.0->pycaret) (3.0.4)\r\n",
      "Requirement already satisfied: catalogue<1.1.0,>=0.0.7 in /opt/conda/lib/python3.7/site-packages (from spacy<2.4.0->pycaret) (1.0.0)\r\n",
      "Requirement already satisfied: blis<0.8.0,>=0.4.0 in /opt/conda/lib/python3.7/site-packages (from spacy<2.4.0->pycaret) (0.7.4)\r\n",
      "Requirement already satisfied: murmurhash<1.1.0,>=0.28.0 in /opt/conda/lib/python3.7/site-packages (from spacy<2.4.0->pycaret) (1.0.5)\r\n",
      "Requirement already satisfied: srsly<1.1.0,>=1.0.2 in /opt/conda/lib/python3.7/site-packages (from spacy<2.4.0->pycaret) (1.0.5)\r\n",
      "Requirement already satisfied: plac<1.2.0,>=0.9.6 in /opt/conda/lib/python3.7/site-packages (from spacy<2.4.0->pycaret) (1.1.3)\r\n",
      "Requirement already satisfied: preshed<3.1.0,>=3.0.2 in /opt/conda/lib/python3.7/site-packages (from spacy<2.4.0->pycaret) (3.0.5)\r\n",
      "Requirement already satisfied: wasabi<1.1.0,>=0.4.0 in /opt/conda/lib/python3.7/site-packages (from spacy<2.4.0->pycaret) (0.8.2)\r\n",
      "Requirement already satisfied: thinc<7.5.0,>=7.4.1 in /opt/conda/lib/python3.7/site-packages (from spacy<2.4.0->pycaret) (7.4.5)\r\n",
      "Requirement already satisfied: cymem<2.1.0,>=2.0.2 in /opt/conda/lib/python3.7/site-packages (from spacy<2.4.0->pycaret) (2.0.5)\r\n",
      "Requirement already satisfied: typing-extensions>=3.6.4 in /opt/conda/lib/python3.7/site-packages (from importlib-metadata->jsonschema!=2.5.0,>=2.4->nbformat>=4.2.0->ipywidgets->pycaret) (3.7.4.3)\r\n",
      "Requirement already satisfied: zipp>=0.5 in /opt/conda/lib/python3.7/site-packages (from importlib-metadata->jsonschema!=2.5.0,>=2.4->nbformat>=4.2.0->ipywidgets->pycaret) (3.4.0)\r\n",
      "Requirement already satisfied: notebook>=4.4.1 in /opt/conda/lib/python3.7/site-packages (from widgetsnbextension~=3.5.0->ipywidgets->pycaret) (5.5.0)\r\n",
      "Requirement already satisfied: nbconvert in /opt/conda/lib/python3.7/site-packages (from notebook>=4.4.1->widgetsnbextension~=3.5.0->ipywidgets->pycaret) (6.0.7)\r\n",
      "Requirement already satisfied: pyzmq>=17 in /opt/conda/lib/python3.7/site-packages (from notebook>=4.4.1->widgetsnbextension~=3.5.0->ipywidgets->pycaret) (20.0.0)\r\n",
      "Requirement already satisfied: Send2Trash in /opt/conda/lib/python3.7/site-packages (from notebook>=4.4.1->widgetsnbextension~=3.5.0->ipywidgets->pycaret) (1.5.0)\r\n",
      "Requirement already satisfied: terminado>=0.8.1 in /opt/conda/lib/python3.7/site-packages (from notebook>=4.4.1->widgetsnbextension~=3.5.0->ipywidgets->pycaret) (0.9.2)\r\n",
      "Requirement already satisfied: smart-open>=1.8.1 in /opt/conda/lib/python3.7/site-packages (from gensim->pycaret) (3.0.0)\r\n",
      "Requirement already satisfied: PyWavelets in /opt/conda/lib/python3.7/site-packages (from imagehash->visions[type_image_path]==0.4.4->pandas-profiling>=2.8.0->pycaret) (1.1.1)\r\n",
      "Requirement already satisfied: cloudpickle in /opt/conda/lib/python3.7/site-packages (from mlflow->pycaret) (1.6.0)\r\n",
      "Collecting querystring-parser\r\n",
      "  Downloading querystring_parser-1.2.4-py2.py3-none-any.whl (7.9 kB)\r\n",
      "Collecting gunicorn\r\n",
      "  Downloading gunicorn-20.0.4-py2.py3-none-any.whl (77 kB)\r\n",
      "\u001b[K     |████████████████████████████████| 77 kB 4.5 MB/s \r\n",
      "\u001b[?25hRequirement already satisfied: sqlparse>=0.3.1 in /opt/conda/lib/python3.7/site-packages (from mlflow->pycaret) (0.4.1)\r\n",
      "Collecting alembic<=1.4.1\r\n",
      "  Downloading alembic-1.4.1.tar.gz (1.1 MB)\r\n",
      "\u001b[K     |████████████████████████████████| 1.1 MB 26.8 MB/s \r\n",
      "\u001b[?25hRequirement already satisfied: protobuf>=3.6.0 in /opt/conda/lib/python3.7/site-packages (from mlflow->pycaret) (3.14.0)\r\n",
      "Requirement already satisfied: gitpython>=2.1.0 in /opt/conda/lib/python3.7/site-packages (from mlflow->pycaret) (3.1.12)\r\n",
      "Requirement already satisfied: sqlalchemy in /opt/conda/lib/python3.7/site-packages (from mlflow->pycaret) (1.3.22)\r\n",
      "Requirement already satisfied: Flask in /opt/conda/lib/python3.7/site-packages (from mlflow->pycaret) (1.1.2)\r\n",
      "Collecting databricks-cli>=0.8.7\r\n",
      "  Downloading databricks-cli-0.14.1.tar.gz (54 kB)\r\n",
      "\u001b[K     |████████████████████████████████| 54 kB 2.1 MB/s \r\n",
      "\u001b[?25hRequirement already satisfied: docker>=4.0.0 in /opt/conda/lib/python3.7/site-packages (from mlflow->pycaret) (4.4.1)\r\n",
      "Collecting prometheus-flask-exporter\r\n",
      "  Downloading prometheus_flask_exporter-0.18.1.tar.gz (21 kB)\r\n",
      "Requirement already satisfied: click>=7.0 in /opt/conda/lib/python3.7/site-packages (from mlflow->pycaret) (7.1.2)\r\n",
      "Requirement already satisfied: entrypoints in /opt/conda/lib/python3.7/site-packages (from mlflow->pycaret) (0.3)\r\n",
      "Requirement already satisfied: Mako in /opt/conda/lib/python3.7/site-packages (from alembic<=1.4.1->mlflow->pycaret) (1.1.4)\r\n",
      "Requirement already satisfied: python-editor>=0.3 in /opt/conda/lib/python3.7/site-packages (from alembic<=1.4.1->mlflow->pycaret) (1.0.4)\r\n",
      "Requirement already satisfied: tabulate>=0.7.7 in /opt/conda/lib/python3.7/site-packages (from databricks-cli>=0.8.7->mlflow->pycaret) (0.8.7)\r\n",
      "Requirement already satisfied: websocket-client>=0.32.0 in /opt/conda/lib/python3.7/site-packages (from docker>=4.0.0->mlflow->pycaret) (0.57.0)\r\n",
      "Requirement already satisfied: gitdb<5,>=4.0.1 in /opt/conda/lib/python3.7/site-packages (from gitpython>=2.1.0->mlflow->pycaret) (4.0.5)\r\n",
      "Requirement already satisfied: smmap<4,>=3.0.1 in /opt/conda/lib/python3.7/site-packages (from gitdb<5,>=4.0.1->gitpython>=2.1.0->mlflow->pycaret) (3.0.4)\r\n",
      "Requirement already satisfied: Werkzeug>=0.15 in /opt/conda/lib/python3.7/site-packages (from Flask->mlflow->pycaret) (1.0.1)\r\n",
      "Requirement already satisfied: itsdangerous>=0.24 in /opt/conda/lib/python3.7/site-packages (from Flask->mlflow->pycaret) (1.1.0)\r\n",
      "Requirement already satisfied: jupyterlab-pygments in /opt/conda/lib/python3.7/site-packages (from nbconvert->notebook>=4.4.1->widgetsnbextension~=3.5.0->ipywidgets->pycaret) (0.1.2)\r\n",
      "Requirement already satisfied: nbclient<0.6.0,>=0.5.0 in /opt/conda/lib/python3.7/site-packages (from nbconvert->notebook>=4.4.1->widgetsnbextension~=3.5.0->ipywidgets->pycaret) (0.5.1)\r\n",
      "Requirement already satisfied: defusedxml in /opt/conda/lib/python3.7/site-packages (from nbconvert->notebook>=4.4.1->widgetsnbextension~=3.5.0->ipywidgets->pycaret) (0.6.0)\r\n",
      "Requirement already satisfied: mistune<2,>=0.8.1 in /opt/conda/lib/python3.7/site-packages (from nbconvert->notebook>=4.4.1->widgetsnbextension~=3.5.0->ipywidgets->pycaret) (0.8.4)\r\n",
      "Requirement already satisfied: pandocfilters>=1.4.1 in /opt/conda/lib/python3.7/site-packages (from nbconvert->notebook>=4.4.1->widgetsnbextension~=3.5.0->ipywidgets->pycaret) (1.4.2)\r\n",
      "Requirement already satisfied: bleach in /opt/conda/lib/python3.7/site-packages (from nbconvert->notebook>=4.4.1->widgetsnbextension~=3.5.0->ipywidgets->pycaret) (3.2.1)\r\n",
      "Requirement already satisfied: testpath in /opt/conda/lib/python3.7/site-packages (from nbconvert->notebook>=4.4.1->widgetsnbextension~=3.5.0->ipywidgets->pycaret) (0.4.4)\r\n",
      "Requirement already satisfied: nest-asyncio in /opt/conda/lib/python3.7/site-packages (from nbclient<0.6.0,>=0.5.0->nbconvert->notebook>=4.4.1->widgetsnbextension~=3.5.0->ipywidgets->pycaret) (1.4.3)\r\n",
      "Requirement already satisfied: async-generator in /opt/conda/lib/python3.7/site-packages (from nbclient<0.6.0,>=0.5.0->nbconvert->notebook>=4.4.1->widgetsnbextension~=3.5.0->ipywidgets->pycaret) (1.10)\r\n",
      "Requirement already satisfied: webencodings in /opt/conda/lib/python3.7/site-packages (from bleach->nbconvert->notebook>=4.4.1->widgetsnbextension~=3.5.0->ipywidgets->pycaret) (0.5.1)\r\n",
      "Requirement already satisfied: packaging in /opt/conda/lib/python3.7/site-packages (from bleach->nbconvert->notebook>=4.4.1->widgetsnbextension~=3.5.0->ipywidgets->pycaret) (20.8)\r\n",
      "Requirement already satisfied: prometheus_client in /opt/conda/lib/python3.7/site-packages (from prometheus-flask-exporter->mlflow->pycaret) (0.9.0)\r\n",
      "Requirement already satisfied: future in /opt/conda/lib/python3.7/site-packages (from pyLDAvis->pycaret) (0.18.2)\r\n",
      "Requirement already satisfied: numexpr in /opt/conda/lib/python3.7/site-packages (from pyLDAvis->pycaret) (2.7.2)\r\n",
      "Requirement already satisfied: funcy in /opt/conda/lib/python3.7/site-packages (from pyLDAvis->pycaret) (1.15)\r\n",
      "Requirement already satisfied: statsmodels in /opt/conda/lib/python3.7/site-packages (from pyod->pycaret) (0.12.1)\r\n",
      "Requirement already satisfied: patsy>=0.5 in /opt/conda/lib/python3.7/site-packages (from statsmodels->pyod->pycaret) (0.5.1)\r\n",
      "Requirement already satisfied: pynndescent>=0.5 in /opt/conda/lib/python3.7/site-packages (from umap-learn->pycaret) (0.5.2)\r\n",
      "Building wheels for collected packages: alembic, databricks-cli, prometheus-flask-exporter, pyod\r\n",
      "  Building wheel for alembic (setup.py) ... \u001b[?25l-\b \b\\\b \b|\b \bdone\r\n",
      "\u001b[?25h  Created wheel for alembic: filename=alembic-1.4.1-py2.py3-none-any.whl size=158155 sha256=a1a78ed5180ef36115845bc4be23505dd81e217bc123f7594d4b50bd3d9f07b8\r\n",
      "  Stored in directory: /root/.cache/pip/wheels/be/5d/0a/9e13f53f4f5dfb67cd8d245bb7cdffe12f135846f491a283e3\r\n",
      "  Building wheel for databricks-cli (setup.py) ... \u001b[?25l-\b \b\\\b \b|\b \bdone\r\n",
      "\u001b[?25h  Created wheel for databricks-cli: filename=databricks_cli-0.14.1-py3-none-any.whl size=100577 sha256=b0418658d66905a8f1ede2243e518371d5b984c81ed452258bfd3cee44c9b15c\r\n",
      "  Stored in directory: /root/.cache/pip/wheels/7f/d9/25/baefac3eda0e7dbf143008d2b9865e0d923d4b7306136244fe\r\n",
      "  Building wheel for prometheus-flask-exporter (setup.py) ... \u001b[?25l-\b \b\\\b \bdone\r\n",
      "\u001b[?25h  Created wheel for prometheus-flask-exporter: filename=prometheus_flask_exporter-0.18.1-py3-none-any.whl size=17158 sha256=1a74bbad3bd1703216d94b031a0bda2fdc149fb5cf02738ee0675a1cc3d1ec23\r\n",
      "  Stored in directory: /root/.cache/pip/wheels/c4/b6/b5/e76659f3b2a3a226565e27f0a7eb7a3ac93c3f4d68acfbe617\r\n",
      "  Building wheel for pyod (setup.py) ... \u001b[?25l-\b \b\\\b \bdone\r\n",
      "\u001b[?25h  Created wheel for pyod: filename=pyod-0.8.7-py3-none-any.whl size=115977 sha256=75bca93ab88f37543eb1577ef355c69d2b3bef19e5a678d390464cf49321e96a\r\n",
      "  Stored in directory: /root/.cache/pip/wheels/b2/ef/b6/3375e239feb7768b5fc35846a0cc22e04312b7c813de07c4dc\r\n",
      "Successfully built alembic databricks-cli prometheus-flask-exporter pyod\r\n",
      "Installing collected packages: querystring-parser, prometheus-flask-exporter, gunicorn, databricks-cli, alembic, pyod, mlflow, pycaret\r\n",
      "  Attempting uninstall: alembic\r\n",
      "    Found existing installation: alembic 1.5.4\r\n",
      "    Uninstalling alembic-1.5.4:\r\n",
      "      Successfully uninstalled alembic-1.5.4\r\n",
      "Successfully installed alembic-1.4.1 databricks-cli-0.14.1 gunicorn-20.0.4 mlflow-1.14.0 prometheus-flask-exporter-0.18.1 pycaret-2.3.0 pyod-0.8.7 querystring-parser-1.2.4\r\n",
      "Note: you may need to restart the kernel to use updated packages.\n"
     ]
    }
   ],
   "source": [
    "pip install pycaret\n"
   ]
  },
  {
   "cell_type": "code",
   "execution_count": null,
   "metadata": {
    "papermill": {
     "duration": 0.052919,
     "end_time": "2021-02-22T23:45:15.719689",
     "exception": false,
     "start_time": "2021-02-22T23:45:15.666770",
     "status": "completed"
    },
    "tags": []
   },
   "outputs": [],
   "source": []
  },
  {
   "cell_type": "code",
   "execution_count": 3,
   "metadata": {
    "execution": {
     "iopub.execute_input": "2021-02-22T23:45:15.833374Z",
     "iopub.status.busy": "2021-02-22T23:45:15.832340Z",
     "iopub.status.idle": "2021-02-22T23:45:15.837674Z",
     "shell.execute_reply": "2021-02-22T23:45:15.838296Z"
    },
    "papermill": {
     "duration": 0.064817,
     "end_time": "2021-02-22T23:45:15.838498",
     "exception": false,
     "start_time": "2021-02-22T23:45:15.773681",
     "status": "completed"
    },
    "tags": []
   },
   "outputs": [],
   "source": [
    "import pycaret"
   ]
  },
  {
   "cell_type": "code",
   "execution_count": 4,
   "metadata": {
    "execution": {
     "iopub.execute_input": "2021-02-22T23:45:15.947796Z",
     "iopub.status.busy": "2021-02-22T23:45:15.946758Z",
     "iopub.status.idle": "2021-02-22T23:45:16.733839Z",
     "shell.execute_reply": "2021-02-22T23:45:16.733279Z"
    },
    "papermill": {
     "duration": 0.842929,
     "end_time": "2021-02-22T23:45:16.733999",
     "exception": false,
     "start_time": "2021-02-22T23:45:15.891070",
     "status": "completed"
    },
    "tags": []
   },
   "outputs": [
    {
     "data": {
      "text/html": [
       "<div>\n",
       "<style scoped>\n",
       "    .dataframe tbody tr th:only-of-type {\n",
       "        vertical-align: middle;\n",
       "    }\n",
       "\n",
       "    .dataframe tbody tr th {\n",
       "        vertical-align: top;\n",
       "    }\n",
       "\n",
       "    .dataframe thead th {\n",
       "        text-align: right;\n",
       "    }\n",
       "</style>\n",
       "<table border=\"1\" class=\"dataframe\">\n",
       "  <thead>\n",
       "    <tr style=\"text-align: right;\">\n",
       "      <th></th>\n",
       "      <th>InvoiceNo</th>\n",
       "      <th>StockCode</th>\n",
       "      <th>Description</th>\n",
       "      <th>Quantity</th>\n",
       "      <th>InvoiceDate</th>\n",
       "      <th>UnitPrice</th>\n",
       "      <th>CustomerID</th>\n",
       "      <th>Country</th>\n",
       "    </tr>\n",
       "  </thead>\n",
       "  <tbody>\n",
       "    <tr>\n",
       "      <th>0</th>\n",
       "      <td>536370</td>\n",
       "      <td>22728</td>\n",
       "      <td>ALARM CLOCK BAKELIKE PINK</td>\n",
       "      <td>24</td>\n",
       "      <td>12/1/2010 8:45</td>\n",
       "      <td>3.75</td>\n",
       "      <td>12583.0</td>\n",
       "      <td>France</td>\n",
       "    </tr>\n",
       "    <tr>\n",
       "      <th>1</th>\n",
       "      <td>536370</td>\n",
       "      <td>22727</td>\n",
       "      <td>ALARM CLOCK BAKELIKE RED</td>\n",
       "      <td>24</td>\n",
       "      <td>12/1/2010 8:45</td>\n",
       "      <td>3.75</td>\n",
       "      <td>12583.0</td>\n",
       "      <td>France</td>\n",
       "    </tr>\n",
       "    <tr>\n",
       "      <th>2</th>\n",
       "      <td>536370</td>\n",
       "      <td>22726</td>\n",
       "      <td>ALARM CLOCK BAKELIKE GREEN</td>\n",
       "      <td>12</td>\n",
       "      <td>12/1/2010 8:45</td>\n",
       "      <td>3.75</td>\n",
       "      <td>12583.0</td>\n",
       "      <td>France</td>\n",
       "    </tr>\n",
       "    <tr>\n",
       "      <th>3</th>\n",
       "      <td>536370</td>\n",
       "      <td>21724</td>\n",
       "      <td>PANDA AND BUNNIES STICKER SHEET</td>\n",
       "      <td>12</td>\n",
       "      <td>12/1/2010 8:45</td>\n",
       "      <td>0.85</td>\n",
       "      <td>12583.0</td>\n",
       "      <td>France</td>\n",
       "    </tr>\n",
       "    <tr>\n",
       "      <th>4</th>\n",
       "      <td>536370</td>\n",
       "      <td>21883</td>\n",
       "      <td>STARS GIFT TAPE</td>\n",
       "      <td>24</td>\n",
       "      <td>12/1/2010 8:45</td>\n",
       "      <td>0.65</td>\n",
       "      <td>12583.0</td>\n",
       "      <td>France</td>\n",
       "    </tr>\n",
       "  </tbody>\n",
       "</table>\n",
       "</div>"
      ],
      "text/plain": [
       "  InvoiceNo StockCode                      Description  Quantity  \\\n",
       "0    536370     22728        ALARM CLOCK BAKELIKE PINK        24   \n",
       "1    536370     22727        ALARM CLOCK BAKELIKE RED         24   \n",
       "2    536370     22726       ALARM CLOCK BAKELIKE GREEN        12   \n",
       "3    536370     21724  PANDA AND BUNNIES STICKER SHEET        12   \n",
       "4    536370     21883                 STARS GIFT TAPE         24   \n",
       "\n",
       "      InvoiceDate  UnitPrice  CustomerID Country  \n",
       "0  12/1/2010 8:45       3.75     12583.0  France  \n",
       "1  12/1/2010 8:45       3.75     12583.0  France  \n",
       "2  12/1/2010 8:45       3.75     12583.0  France  \n",
       "3  12/1/2010 8:45       0.85     12583.0  France  \n",
       "4  12/1/2010 8:45       0.65     12583.0  France  "
      ]
     },
     "metadata": {},
     "output_type": "display_data"
    }
   ],
   "source": [
    "from pycaret.datasets import get_data\n",
    "data = get_data('france')"
   ]
  },
  {
   "cell_type": "code",
   "execution_count": 5,
   "metadata": {
    "execution": {
     "iopub.execute_input": "2021-02-22T23:45:16.842244Z",
     "iopub.status.busy": "2021-02-22T23:45:16.841193Z",
     "iopub.status.idle": "2021-02-22T23:45:16.846754Z",
     "shell.execute_reply": "2021-02-22T23:45:16.847356Z"
    },
    "papermill": {
     "duration": 0.061442,
     "end_time": "2021-02-22T23:45:16.847593",
     "exception": false,
     "start_time": "2021-02-22T23:45:16.786151",
     "status": "completed"
    },
    "tags": []
   },
   "outputs": [
    {
     "data": {
      "text/plain": [
       "(8557, 8)"
      ]
     },
     "execution_count": 5,
     "metadata": {},
     "output_type": "execute_result"
    }
   ],
   "source": [
    "#check the shape of data\n",
    "data.shape"
   ]
  },
  {
   "cell_type": "code",
   "execution_count": 6,
   "metadata": {
    "execution": {
     "iopub.execute_input": "2021-02-22T23:45:16.957209Z",
     "iopub.status.busy": "2021-02-22T23:45:16.956196Z",
     "iopub.status.idle": "2021-02-22T23:45:16.961299Z",
     "shell.execute_reply": "2021-02-22T23:45:16.961905Z"
    },
    "papermill": {
     "duration": 0.062017,
     "end_time": "2021-02-22T23:45:16.962106",
     "exception": false,
     "start_time": "2021-02-22T23:45:16.900089",
     "status": "completed"
    },
    "tags": []
   },
   "outputs": [],
   "source": [
    "from pycaret.arules import *"
   ]
  },
  {
   "cell_type": "code",
   "execution_count": 7,
   "metadata": {
    "execution": {
     "iopub.execute_input": "2021-02-22T23:45:17.072873Z",
     "iopub.status.busy": "2021-02-22T23:45:17.071885Z",
     "iopub.status.idle": "2021-02-22T23:45:17.152651Z",
     "shell.execute_reply": "2021-02-22T23:45:17.151548Z"
    },
    "papermill": {
     "duration": 0.138279,
     "end_time": "2021-02-22T23:45:17.152814",
     "exception": false,
     "start_time": "2021-02-22T23:45:17.014535",
     "status": "completed"
    },
    "tags": []
   },
   "outputs": [
    {
     "data": {
      "text/html": [
       "<style  type=\"text/css\" >\n",
       "</style><table id=\"T_128a2_\" ><thead>    <tr>        <th class=\"col_heading level0 col0\" >Description</th>        <th class=\"col_heading level0 col1\" >Value</th>    </tr></thead><tbody>\n",
       "                <tr>\n",
       "                                <td id=\"T_128a2_row0_col0\" class=\"data row0 col0\" >session_id</td>\n",
       "                        <td id=\"T_128a2_row0_col1\" class=\"data row0 col1\" >3787</td>\n",
       "            </tr>\n",
       "            <tr>\n",
       "                                <td id=\"T_128a2_row1_col0\" class=\"data row1 col0\" ># Transactions</td>\n",
       "                        <td id=\"T_128a2_row1_col1\" class=\"data row1 col1\" >461</td>\n",
       "            </tr>\n",
       "            <tr>\n",
       "                                <td id=\"T_128a2_row2_col0\" class=\"data row2 col0\" ># Items</td>\n",
       "                        <td id=\"T_128a2_row2_col1\" class=\"data row2 col1\" >1565</td>\n",
       "            </tr>\n",
       "            <tr>\n",
       "                                <td id=\"T_128a2_row3_col0\" class=\"data row3 col0\" >Ignore Items</td>\n",
       "                        <td id=\"T_128a2_row3_col1\" class=\"data row3 col1\" >None</td>\n",
       "            </tr>\n",
       "    </tbody></table>"
      ],
      "text/plain": [
       "<pandas.io.formats.style.Styler at 0x7f247d2d8410>"
      ]
     },
     "metadata": {},
     "output_type": "display_data"
    }
   ],
   "source": [
    "\n",
    "\n",
    "preprocessing = setup(data = data, # setup for apriori algorithm\n",
    "                    transaction_id = 'InvoiceNo',\n",
    "                    item_id = 'Description')\n",
    "\n"
   ]
  },
  {
   "cell_type": "code",
   "execution_count": 8,
   "metadata": {
    "execution": {
     "iopub.execute_input": "2021-02-22T23:45:17.263868Z",
     "iopub.status.busy": "2021-02-22T23:45:17.263167Z",
     "iopub.status.idle": "2021-02-22T23:45:17.266333Z",
     "shell.execute_reply": "2021-02-22T23:45:17.265784Z"
    },
    "papermill": {
     "duration": 0.060881,
     "end_time": "2021-02-22T23:45:17.266495",
     "exception": false,
     "start_time": "2021-02-22T23:45:17.205614",
     "status": "completed"
    },
    "tags": []
   },
   "outputs": [],
   "source": [
    " # Transactions : Unique number of transactions in the dataset. In this case unique InvoiceNo.\n",
    "\n",
    "# Items : Unique number of items in the dataset. In this case Description.\n",
    "\n",
    "#Ignore Items : Items to be ignored in rule mining."
   ]
  },
  {
   "cell_type": "code",
   "execution_count": 9,
   "metadata": {
    "execution": {
     "iopub.execute_input": "2021-02-22T23:45:17.377392Z",
     "iopub.status.busy": "2021-02-22T23:45:17.376702Z",
     "iopub.status.idle": "2021-02-22T23:45:18.302507Z",
     "shell.execute_reply": "2021-02-22T23:45:18.303109Z"
    },
    "papermill": {
     "duration": 0.983874,
     "end_time": "2021-02-22T23:45:18.303319",
     "exception": false,
     "start_time": "2021-02-22T23:45:17.319445",
     "status": "completed"
    },
    "tags": []
   },
   "outputs": [],
   "source": [
    "model1 = create_model() #model created and stored in model1 variable."
   ]
  },
  {
   "cell_type": "code",
   "execution_count": 10,
   "metadata": {
    "execution": {
     "iopub.execute_input": "2021-02-22T23:45:18.415684Z",
     "iopub.status.busy": "2021-02-22T23:45:18.414644Z",
     "iopub.status.idle": "2021-02-22T23:45:18.420501Z",
     "shell.execute_reply": "2021-02-22T23:45:18.421124Z"
    },
    "papermill": {
     "duration": 0.064753,
     "end_time": "2021-02-22T23:45:18.421307",
     "exception": false,
     "start_time": "2021-02-22T23:45:18.356554",
     "status": "completed"
    },
    "tags": []
   },
   "outputs": [
    {
     "name": "stdout",
     "output_type": "stream",
     "text": [
      "(141, 9)\n"
     ]
    }
   ],
   "source": [
    "print(model1.shape) #141 rules created."
   ]
  },
  {
   "cell_type": "code",
   "execution_count": 11,
   "metadata": {
    "execution": {
     "iopub.execute_input": "2021-02-22T23:45:18.550433Z",
     "iopub.status.busy": "2021-02-22T23:45:18.549718Z",
     "iopub.status.idle": "2021-02-22T23:45:18.554516Z",
     "shell.execute_reply": "2021-02-22T23:45:18.553916Z"
    },
    "papermill": {
     "duration": 0.079612,
     "end_time": "2021-02-22T23:45:18.554683",
     "exception": false,
     "start_time": "2021-02-22T23:45:18.475071",
     "status": "completed"
    },
    "tags": []
   },
   "outputs": [
    {
     "data": {
      "text/html": [
       "<div>\n",
       "<style scoped>\n",
       "    .dataframe tbody tr th:only-of-type {\n",
       "        vertical-align: middle;\n",
       "    }\n",
       "\n",
       "    .dataframe tbody tr th {\n",
       "        vertical-align: top;\n",
       "    }\n",
       "\n",
       "    .dataframe thead th {\n",
       "        text-align: right;\n",
       "    }\n",
       "</style>\n",
       "<table border=\"1\" class=\"dataframe\">\n",
       "  <thead>\n",
       "    <tr style=\"text-align: right;\">\n",
       "      <th></th>\n",
       "      <th>antecedents</th>\n",
       "      <th>consequents</th>\n",
       "      <th>antecedent support</th>\n",
       "      <th>consequent support</th>\n",
       "      <th>support</th>\n",
       "      <th>confidence</th>\n",
       "      <th>lift</th>\n",
       "      <th>leverage</th>\n",
       "      <th>conviction</th>\n",
       "    </tr>\n",
       "  </thead>\n",
       "  <tbody>\n",
       "    <tr>\n",
       "      <th>0</th>\n",
       "      <td>(JUMBO BAG WOODLAND ANIMALS)</td>\n",
       "      <td>(POSTAGE)</td>\n",
       "      <td>0.0651</td>\n",
       "      <td>0.6746</td>\n",
       "      <td>0.0651</td>\n",
       "      <td>1.0000</td>\n",
       "      <td>1.4823</td>\n",
       "      <td>0.0212</td>\n",
       "      <td>inf</td>\n",
       "    </tr>\n",
       "    <tr>\n",
       "      <th>1</th>\n",
       "      <td>(SET/6 RED SPOTTY PAPER PLATES, SET/20 RED RET...</td>\n",
       "      <td>(SET/6 RED SPOTTY PAPER CUPS)</td>\n",
       "      <td>0.0868</td>\n",
       "      <td>0.1171</td>\n",
       "      <td>0.0846</td>\n",
       "      <td>0.9750</td>\n",
       "      <td>8.3236</td>\n",
       "      <td>0.0744</td>\n",
       "      <td>35.3145</td>\n",
       "    </tr>\n",
       "    <tr>\n",
       "      <th>2</th>\n",
       "      <td>(SET/20 RED RETROSPOT PAPER NAPKINS , SET/6 RE...</td>\n",
       "      <td>(SET/6 RED SPOTTY PAPER PLATES)</td>\n",
       "      <td>0.0868</td>\n",
       "      <td>0.1085</td>\n",
       "      <td>0.0846</td>\n",
       "      <td>0.9750</td>\n",
       "      <td>8.9895</td>\n",
       "      <td>0.0752</td>\n",
       "      <td>35.6616</td>\n",
       "    </tr>\n",
       "    <tr>\n",
       "      <th>3</th>\n",
       "      <td>(POSTAGE, SET/20 RED RETROSPOT PAPER NAPKINS ,...</td>\n",
       "      <td>(SET/6 RED SPOTTY PAPER PLATES)</td>\n",
       "      <td>0.0716</td>\n",
       "      <td>0.1085</td>\n",
       "      <td>0.0694</td>\n",
       "      <td>0.9697</td>\n",
       "      <td>8.9406</td>\n",
       "      <td>0.0617</td>\n",
       "      <td>29.4208</td>\n",
       "    </tr>\n",
       "    <tr>\n",
       "      <th>4</th>\n",
       "      <td>(POSTAGE, SET/6 RED SPOTTY PAPER PLATES, SET/2...</td>\n",
       "      <td>(SET/6 RED SPOTTY PAPER CUPS)</td>\n",
       "      <td>0.0716</td>\n",
       "      <td>0.1171</td>\n",
       "      <td>0.0694</td>\n",
       "      <td>0.9697</td>\n",
       "      <td>8.2783</td>\n",
       "      <td>0.0610</td>\n",
       "      <td>29.1345</td>\n",
       "    </tr>\n",
       "  </tbody>\n",
       "</table>\n",
       "</div>"
      ],
      "text/plain": [
       "                                         antecedents  \\\n",
       "0                       (JUMBO BAG WOODLAND ANIMALS)   \n",
       "1  (SET/6 RED SPOTTY PAPER PLATES, SET/20 RED RET...   \n",
       "2  (SET/20 RED RETROSPOT PAPER NAPKINS , SET/6 RE...   \n",
       "3  (POSTAGE, SET/20 RED RETROSPOT PAPER NAPKINS ,...   \n",
       "4  (POSTAGE, SET/6 RED SPOTTY PAPER PLATES, SET/2...   \n",
       "\n",
       "                       consequents  antecedent support  consequent support  \\\n",
       "0                        (POSTAGE)              0.0651              0.6746   \n",
       "1    (SET/6 RED SPOTTY PAPER CUPS)              0.0868              0.1171   \n",
       "2  (SET/6 RED SPOTTY PAPER PLATES)              0.0868              0.1085   \n",
       "3  (SET/6 RED SPOTTY PAPER PLATES)              0.0716              0.1085   \n",
       "4    (SET/6 RED SPOTTY PAPER CUPS)              0.0716              0.1171   \n",
       "\n",
       "   support  confidence    lift  leverage  conviction  \n",
       "0   0.0651      1.0000  1.4823    0.0212         inf  \n",
       "1   0.0846      0.9750  8.3236    0.0744     35.3145  \n",
       "2   0.0846      0.9750  8.9895    0.0752     35.6616  \n",
       "3   0.0694      0.9697  8.9406    0.0617     29.4208  \n",
       "4   0.0694      0.9697  8.2783    0.0610     29.1345  "
      ]
     },
     "execution_count": 11,
     "metadata": {},
     "output_type": "execute_result"
    }
   ],
   "source": [
    "model1.head() #see the rules"
   ]
  },
  {
   "cell_type": "code",
   "execution_count": 12,
   "metadata": {
    "execution": {
     "iopub.execute_input": "2021-02-22T23:45:18.673952Z",
     "iopub.status.busy": "2021-02-22T23:45:18.669368Z",
     "iopub.status.idle": "2021-02-22T23:45:18.678752Z",
     "shell.execute_reply": "2021-02-22T23:45:18.678126Z"
    },
    "papermill": {
     "duration": 0.069764,
     "end_time": "2021-02-22T23:45:18.678908",
     "exception": false,
     "start_time": "2021-02-22T23:45:18.609144",
     "status": "completed"
    },
    "tags": []
   },
   "outputs": [
    {
     "data": {
      "text/html": [
       "<style  type=\"text/css\" >\n",
       "</style><table id=\"T_b58fe_\" ><thead>    <tr>        <th class=\"col_heading level0 col0\" >Description</th>        <th class=\"col_heading level0 col1\" >Value</th>    </tr></thead><tbody>\n",
       "                <tr>\n",
       "                                <td id=\"T_b58fe_row0_col0\" class=\"data row0 col0\" >session_id</td>\n",
       "                        <td id=\"T_b58fe_row0_col1\" class=\"data row0 col1\" >7432</td>\n",
       "            </tr>\n",
       "            <tr>\n",
       "                                <td id=\"T_b58fe_row1_col0\" class=\"data row1 col0\" ># Transactions</td>\n",
       "                        <td id=\"T_b58fe_row1_col1\" class=\"data row1 col1\" >461</td>\n",
       "            </tr>\n",
       "            <tr>\n",
       "                                <td id=\"T_b58fe_row2_col0\" class=\"data row2 col0\" ># Items</td>\n",
       "                        <td id=\"T_b58fe_row2_col1\" class=\"data row2 col1\" >1565</td>\n",
       "            </tr>\n",
       "            <tr>\n",
       "                                <td id=\"T_b58fe_row3_col0\" class=\"data row3 col0\" >Ignore Items</td>\n",
       "                        <td id=\"T_b58fe_row3_col1\" class=\"data row3 col1\" >['POSTAGE']</td>\n",
       "            </tr>\n",
       "    </tbody></table>"
      ],
      "text/plain": [
       "<pandas.io.formats.style.Styler at 0x7f247d0d0b90>"
      ]
     },
     "metadata": {},
     "output_type": "display_data"
    }
   ],
   "source": [
    "preprocessing2 = setup(data = data, \n",
    "                    transaction_id = 'InvoiceNo',\n",
    "                    item_id = 'Description',\n",
    "                    ignore_items = ['POSTAGE'])#obvious relationships like shipping costs can be ignored"
   ]
  },
  {
   "cell_type": "code",
   "execution_count": 13,
   "metadata": {
    "execution": {
     "iopub.execute_input": "2021-02-22T23:45:18.797617Z",
     "iopub.status.busy": "2021-02-22T23:45:18.796459Z",
     "iopub.status.idle": "2021-02-22T23:45:19.641675Z",
     "shell.execute_reply": "2021-02-22T23:45:19.640930Z"
    },
    "papermill": {
     "duration": 0.907799,
     "end_time": "2021-02-22T23:45:19.641831",
     "exception": false,
     "start_time": "2021-02-22T23:45:18.734032",
     "status": "completed"
    },
    "tags": []
   },
   "outputs": [],
   "source": [
    "model2 = create_model()"
   ]
  },
  {
   "cell_type": "code",
   "execution_count": 14,
   "metadata": {
    "execution": {
     "iopub.execute_input": "2021-02-22T23:45:19.759448Z",
     "iopub.status.busy": "2021-02-22T23:45:19.758679Z",
     "iopub.status.idle": "2021-02-22T23:45:19.762150Z",
     "shell.execute_reply": "2021-02-22T23:45:19.761467Z"
    },
    "papermill": {
     "duration": 0.0652,
     "end_time": "2021-02-22T23:45:19.762304",
     "exception": false,
     "start_time": "2021-02-22T23:45:19.697104",
     "status": "completed"
    },
    "tags": []
   },
   "outputs": [
    {
     "name": "stdout",
     "output_type": "stream",
     "text": [
      "(45, 9)\n"
     ]
    }
   ],
   "source": [
    "print(model2.shape) #notice how only 45 rules are created vs. 141 above."
   ]
  },
  {
   "cell_type": "markdown",
   "metadata": {
    "papermill": {
     "duration": 0.055567,
     "end_time": "2021-02-22T23:45:19.874402",
     "exception": false,
     "start_time": "2021-02-22T23:45:19.818835",
     "status": "completed"
    },
    "tags": []
   },
   "source": [
    "The challenge is the mining of important rules from a massive number of association rules that can be derived from a list of items."
   ]
  },
  {
   "cell_type": "code",
   "execution_count": 15,
   "metadata": {
    "execution": {
     "iopub.execute_input": "2021-02-22T23:45:20.008287Z",
     "iopub.status.busy": "2021-02-22T23:45:20.007218Z",
     "iopub.status.idle": "2021-02-22T23:45:20.012052Z",
     "shell.execute_reply": "2021-02-22T23:45:20.011501Z"
    },
    "papermill": {
     "duration": 0.081973,
     "end_time": "2021-02-22T23:45:20.012211",
     "exception": false,
     "start_time": "2021-02-22T23:45:19.930238",
     "status": "completed"
    },
    "tags": []
   },
   "outputs": [
    {
     "data": {
      "text/html": [
       "<div>\n",
       "<style scoped>\n",
       "    .dataframe tbody tr th:only-of-type {\n",
       "        vertical-align: middle;\n",
       "    }\n",
       "\n",
       "    .dataframe tbody tr th {\n",
       "        vertical-align: top;\n",
       "    }\n",
       "\n",
       "    .dataframe thead th {\n",
       "        text-align: right;\n",
       "    }\n",
       "</style>\n",
       "<table border=\"1\" class=\"dataframe\">\n",
       "  <thead>\n",
       "    <tr style=\"text-align: right;\">\n",
       "      <th></th>\n",
       "      <th>antecedents</th>\n",
       "      <th>consequents</th>\n",
       "      <th>antecedent support</th>\n",
       "      <th>consequent support</th>\n",
       "      <th>support</th>\n",
       "      <th>confidence</th>\n",
       "      <th>lift</th>\n",
       "      <th>leverage</th>\n",
       "      <th>conviction</th>\n",
       "    </tr>\n",
       "  </thead>\n",
       "  <tbody>\n",
       "    <tr>\n",
       "      <th>0</th>\n",
       "      <td>(SET/6 RED SPOTTY PAPER PLATES, SET/20 RED RET...</td>\n",
       "      <td>(SET/6 RED SPOTTY PAPER CUPS)</td>\n",
       "      <td>0.0868</td>\n",
       "      <td>0.1171</td>\n",
       "      <td>0.0846</td>\n",
       "      <td>0.9750</td>\n",
       "      <td>8.3236</td>\n",
       "      <td>0.0744</td>\n",
       "      <td>35.3145</td>\n",
       "    </tr>\n",
       "    <tr>\n",
       "      <th>1</th>\n",
       "      <td>(SET/20 RED RETROSPOT PAPER NAPKINS , SET/6 RE...</td>\n",
       "      <td>(SET/6 RED SPOTTY PAPER PLATES)</td>\n",
       "      <td>0.0868</td>\n",
       "      <td>0.1085</td>\n",
       "      <td>0.0846</td>\n",
       "      <td>0.9750</td>\n",
       "      <td>8.9895</td>\n",
       "      <td>0.0752</td>\n",
       "      <td>35.6616</td>\n",
       "    </tr>\n",
       "    <tr>\n",
       "      <th>2</th>\n",
       "      <td>(SET/6 RED SPOTTY PAPER PLATES)</td>\n",
       "      <td>(SET/6 RED SPOTTY PAPER CUPS)</td>\n",
       "      <td>0.1085</td>\n",
       "      <td>0.1171</td>\n",
       "      <td>0.1041</td>\n",
       "      <td>0.9600</td>\n",
       "      <td>8.1956</td>\n",
       "      <td>0.0914</td>\n",
       "      <td>22.0716</td>\n",
       "    </tr>\n",
       "    <tr>\n",
       "      <th>3</th>\n",
       "      <td>(CHILDRENS CUTLERY SPACEBOY )</td>\n",
       "      <td>(CHILDRENS CUTLERY DOLLY GIRL )</td>\n",
       "      <td>0.0586</td>\n",
       "      <td>0.0629</td>\n",
       "      <td>0.0542</td>\n",
       "      <td>0.9259</td>\n",
       "      <td>14.7190</td>\n",
       "      <td>0.0505</td>\n",
       "      <td>12.6508</td>\n",
       "    </tr>\n",
       "    <tr>\n",
       "      <th>4</th>\n",
       "      <td>(SET/6 RED SPOTTY PAPER CUPS)</td>\n",
       "      <td>(SET/6 RED SPOTTY PAPER PLATES)</td>\n",
       "      <td>0.1171</td>\n",
       "      <td>0.1085</td>\n",
       "      <td>0.1041</td>\n",
       "      <td>0.8889</td>\n",
       "      <td>8.1956</td>\n",
       "      <td>0.0914</td>\n",
       "      <td>8.0239</td>\n",
       "    </tr>\n",
       "  </tbody>\n",
       "</table>\n",
       "</div>"
      ],
      "text/plain": [
       "                                         antecedents  \\\n",
       "0  (SET/6 RED SPOTTY PAPER PLATES, SET/20 RED RET...   \n",
       "1  (SET/20 RED RETROSPOT PAPER NAPKINS , SET/6 RE...   \n",
       "2                    (SET/6 RED SPOTTY PAPER PLATES)   \n",
       "3                      (CHILDRENS CUTLERY SPACEBOY )   \n",
       "4                      (SET/6 RED SPOTTY PAPER CUPS)   \n",
       "\n",
       "                       consequents  antecedent support  consequent support  \\\n",
       "0    (SET/6 RED SPOTTY PAPER CUPS)              0.0868              0.1171   \n",
       "1  (SET/6 RED SPOTTY PAPER PLATES)              0.0868              0.1085   \n",
       "2    (SET/6 RED SPOTTY PAPER CUPS)              0.1085              0.1171   \n",
       "3  (CHILDRENS CUTLERY DOLLY GIRL )              0.0586              0.0629   \n",
       "4  (SET/6 RED SPOTTY PAPER PLATES)              0.1171              0.1085   \n",
       "\n",
       "   support  confidence     lift  leverage  conviction  \n",
       "0   0.0846      0.9750   8.3236    0.0744     35.3145  \n",
       "1   0.0846      0.9750   8.9895    0.0752     35.6616  \n",
       "2   0.1041      0.9600   8.1956    0.0914     22.0716  \n",
       "3   0.0542      0.9259  14.7190    0.0505     12.6508  \n",
       "4   0.1041      0.8889   8.1956    0.0914      8.0239  "
      ]
     },
     "execution_count": 15,
     "metadata": {},
     "output_type": "execute_result"
    }
   ],
   "source": [
    "model2.head()"
   ]
  },
  {
   "cell_type": "code",
   "execution_count": 16,
   "metadata": {
    "execution": {
     "iopub.execute_input": "2021-02-22T23:45:20.132014Z",
     "iopub.status.busy": "2021-02-22T23:45:20.131351Z",
     "iopub.status.idle": "2021-02-22T23:45:24.361435Z",
     "shell.execute_reply": "2021-02-22T23:45:24.362011Z"
    },
    "papermill": {
     "duration": 4.292252,
     "end_time": "2021-02-22T23:45:24.362225",
     "exception": false,
     "start_time": "2021-02-22T23:45:20.069973",
     "status": "completed"
    },
    "tags": []
   },
   "outputs": [
    {
     "data": {
      "text/html": [
       "        <script type=\"text/javascript\">\n",
       "        window.PlotlyConfig = {MathJaxConfig: 'local'};\n",
       "        if (window.MathJax) {MathJax.Hub.Config({SVG: {font: \"STIX-Web\"}});}\n",
       "        if (typeof require !== 'undefined') {\n",
       "        require.undef(\"plotly\");\n",
       "        requirejs.config({\n",
       "            paths: {\n",
       "                'plotly': ['https://cdn.plot.ly/plotly-latest.min']\n",
       "            }\n",
       "        });\n",
       "        require(['plotly'], function(Plotly) {\n",
       "            window._Plotly = Plotly;\n",
       "        });\n",
       "        }\n",
       "        </script>\n",
       "        "
      ]
     },
     "metadata": {},
     "output_type": "display_data"
    },
    {
     "data": {
      "application/vnd.plotly.v1+json": {
       "config": {
        "plotlyServerURL": "https://plot.ly"
       },
       "data": [
        {
         "customdata": [
          [
           "SET/6 RED SPOTTY PAPER PLATES",
           "SET/6 RED SPOTTY PAPER CUPS"
          ],
          [
           "SET/20 RED RETROSPOT PAPER NAPKINS ",
           "SET/6 RED SPOTTY PAPER PLATES"
          ],
          [
           "SET/6 RED SPOTTY PAPER PLATES",
           "SET/6 RED SPOTTY PAPER CUPS"
          ],
          [
           "CHILDRENS CUTLERY SPACEBOY ",
           "CHILDRENS CUTLERY DOLLY GIRL "
          ],
          [
           "SET/6 RED SPOTTY PAPER CUPS",
           "SET/6 RED SPOTTY PAPER PLATES"
          ],
          [
           "ALARM CLOCK BAKELIKE GREEN",
           "ALARM CLOCK BAKELIKE RED "
          ],
          [
           "CHILDRENS CUTLERY DOLLY GIRL ",
           "CHILDRENS CUTLERY SPACEBOY "
          ],
          [
           "ALARM CLOCK BAKELIKE RED ",
           "ALARM CLOCK BAKELIKE GREEN"
          ],
          [
           "ALARM CLOCK BAKELIKE RED ",
           "ALARM CLOCK BAKELIKE GREEN"
          ],
          [
           "SET/6 RED SPOTTY PAPER PLATES",
           "SET/20 RED RETROSPOT PAPER NAPKINS "
          ],
          [
           "ALARM CLOCK BAKELIKE RED ",
           "ALARM CLOCK BAKELIKE PINK"
          ],
          [
           "SET/6 RED SPOTTY PAPER PLATES",
           "SET/20 RED RETROSPOT PAPER NAPKINS "
          ],
          [
           "ALARM CLOCK BAKELIKE GREEN",
           "ALARM CLOCK BAKELIKE RED "
          ],
          [
           "ALARM CLOCK BAKELIKE RED ",
           "ALARM CLOCK BAKELIKE PINK"
          ],
          [
           "SET/6 RED SPOTTY PAPER PLATES",
           "SET/20 RED RETROSPOT PAPER NAPKINS "
          ],
          [
           "SET/20 RED RETROSPOT PAPER NAPKINS ",
           "SET/6 RED SPOTTY PAPER CUPS"
          ],
          [
           "SET/20 RED RETROSPOT PAPER NAPKINS ",
           "SET/6 RED SPOTTY PAPER PLATES"
          ],
          [
           "PLASTERS IN TIN SPACEBOY",
           "PLASTERS IN TIN WOODLAND ANIMALS"
          ],
          [
           "SET/20 RED RETROSPOT PAPER NAPKINS ",
           "SET/6 RED SPOTTY PAPER PLATES"
          ],
          [
           "PLASTERS IN TIN SPACEBOY",
           "PLASTERS IN TIN WOODLAND ANIMALS"
          ],
          [
           "ALARM CLOCK BAKELIKE GREEN",
           "ALARM CLOCK BAKELIKE PINK"
          ],
          [
           "SET/6 RED SPOTTY PAPER CUPS",
           "SET/20 RED RETROSPOT PAPER NAPKINS "
          ],
          [
           "ALARM CLOCK BAKELIKE PINK",
           "ALARM CLOCK BAKELIKE RED "
          ],
          [
           "ALARM CLOCK BAKELIKE PINK",
           "ALARM CLOCK BAKELIKE GREEN"
          ],
          [
           "SET/6 RED SPOTTY PAPER CUPS",
           "SET/6 RED SPOTTY PAPER PLATES"
          ],
          [
           "DOLLY GIRL LUNCH BOX",
           "SPACEBOY LUNCH BOX "
          ],
          [
           "ALARM CLOCK BAKELIKE RED ",
           "ALARM CLOCK BAKELIKE GREEN"
          ],
          [
           "PLASTERS IN TIN CIRCUS PARADE ",
           "PLASTERS IN TIN SPACEBOY"
          ],
          [
           "PLASTERS IN TIN SPACEBOY",
           "PLASTERS IN TIN CIRCUS PARADE "
          ],
          [
           "PLASTERS IN TIN SPACEBOY",
           "PLASTERS IN TIN CIRCUS PARADE "
          ],
          [
           "ALARM CLOCK BAKELIKE GREEN",
           "ALARM CLOCK BAKELIKE RED "
          ],
          [
           "ALARM CLOCK BAKELIKE PINK",
           "ALARM CLOCK BAKELIKE RED "
          ],
          [
           "PLASTERS IN TIN WOODLAND ANIMALS",
           "PLASTERS IN TIN SPACEBOY"
          ],
          [
           "PLASTERS IN TIN WOODLAND ANIMALS",
           "PLASTERS IN TIN CIRCUS PARADE "
          ],
          [
           "PLASTERS IN TIN CIRCUS PARADE ",
           "PLASTERS IN TIN WOODLAND ANIMALS"
          ],
          [
           "ROUND SNACK BOXES SET OF 4 FRUITS ",
           "ROUND SNACK BOXES SET OF4 WOODLAND "
          ],
          [
           "SPACEBOY LUNCH BOX ",
           "DOLLY GIRL LUNCH BOX"
          ],
          [
           "LUNCH BAG WOODLAND",
           "LUNCH BAG SPACEBOY DESIGN "
          ],
          [
           "LUNCH BAG SPACEBOY DESIGN ",
           "LUNCH BAG WOODLAND"
          ],
          [
           "LUNCH BAG SPACEBOY DESIGN ",
           "LUNCH BAG RED RETROSPOT"
          ],
          [
           "LUNCH BAG SPACEBOY DESIGN ",
           "LUNCH BAG APPLE DESIGN"
          ],
          [
           "PLASTERS IN TIN CIRCUS PARADE ",
           "PLASTERS IN TIN SPACEBOY"
          ],
          [
           "STRAWBERRY LUNCH BOX WITH CUTLERY",
           "LUNCH BOX WITH CUTLERY RETROSPOT "
          ],
          [
           "LUNCH BAG APPLE DESIGN",
           "LUNCH BAG SPACEBOY DESIGN "
          ],
          [
           "LUNCH BAG APPLE DESIGN",
           "LUNCH BAG RED RETROSPOT"
          ]
         ],
         "hovertemplate": "support=%{x}<br>confidence=%{y}<br>antecedents_short=%{text}<br>antecedents=%{customdata[0]}<br>consequents=%{customdata[1]}<br>lift=%{marker.color}<extra></extra>",
         "legendgroup": "",
         "marker": {
          "color": [
           8.3236,
           8.9895,
           8.1956,
           14.719,
           8.1956,
           10.7409,
           14.719,
           10.1901,
           9.9037,
           7.2031,
           9.2944,
           7.0923,
           9.9037,
           9.0331,
           8.9895,
           6.567,
           7.0923,
           5.1604,
           7.2031,
           5.1292,
           8.5699,
           6.567,
           9.0331,
           8.5699,
           8.3236,
           6.5857,
           10.7409,
           5.6577,
           4.4645,
           4.4374,
           10.1901,
           9.2944,
           5.1292,
           4.0474,
           4.0474,
           4.1879,
           6.5857,
           5.3129,
           5.3129,
           4.0936,
           4.9942,
           4.4374,
           4.2124,
           4.9942,
           3.9298
          ],
          "coloraxis": "coloraxis",
          "opacity": 0.5,
          "symbol": "circle"
         },
         "mode": "markers+text",
         "name": "",
         "orientation": "v",
         "showlegend": false,
         "text": [
          "SET/6 RED ",
          "SET/20 RED",
          "SET/6 RED ",
          "CHILDRENS ",
          "SET/6 RED ",
          "ALARM CLOC",
          "CHILDRENS ",
          "ALARM CLOC",
          "ALARM CLOC",
          "SET/6 RED ",
          "ALARM CLOC",
          "SET/6 RED ",
          "ALARM CLOC",
          "ALARM CLOC",
          "SET/6 RED ",
          "SET/20 RED",
          "SET/20 RED",
          "PLASTERS I",
          "SET/20 RED",
          "PLASTERS I",
          "ALARM CLOC",
          "SET/6 RED ",
          "ALARM CLOC",
          "ALARM CLOC",
          "SET/6 RED ",
          "DOLLY GIRL",
          "ALARM CLOC",
          "PLASTERS I",
          "PLASTERS I",
          "PLASTERS I",
          "ALARM CLOC",
          "ALARM CLOC",
          "PLASTERS I",
          "PLASTERS I",
          "PLASTERS I",
          "ROUND SNAC",
          "SPACEBOY L",
          "LUNCH BAG ",
          "LUNCH BAG ",
          "LUNCH BAG ",
          "LUNCH BAG ",
          "PLASTERS I",
          "STRAWBERRY",
          "LUNCH BAG ",
          "LUNCH BAG "
         ],
         "textposition": "top center",
         "type": "scatter",
         "x": [
          0.0846,
          0.0846,
          0.1041,
          0.0542,
          0.1041,
          0.0542,
          0.0542,
          0.0542,
          0.0672,
          0.0846,
          0.0542,
          0.0868,
          0.0672,
          0.0629,
          0.0846,
          0.0868,
          0.0868,
          0.0586,
          0.0846,
          0.0889,
          0.0629,
          0.0868,
          0.0629,
          0.0629,
          0.0846,
          0.0607,
          0.0542,
          0.0586,
          0.0586,
          0.0781,
          0.0542,
          0.0542,
          0.0889,
          0.0868,
          0.0868,
          0.0542,
          0.0607,
          0.0564,
          0.0564,
          0.0564,
          0.0564,
          0.0781,
          0.0542,
          0.0564,
          0.0564
         ],
         "xaxis": "x",
         "y": [
          0.975,
          0.975,
          0.96,
          0.9259,
          0.8889,
          0.8621,
          0.8621,
          0.8621,
          0.8378,
          0.8125,
          0.8065,
          0.8,
          0.7949,
          0.7838,
          0.78,
          0.7692,
          0.7692,
          0.75,
          0.75,
          0.7455,
          0.7436,
          0.7407,
          0.725,
          0.725,
          0.7222,
          0.7,
          0.6757,
          0.675,
          0.6585,
          0.6545,
          0.641,
          0.625,
          0.6119,
          0.597,
          0.5882,
          0.5814,
          0.5714,
          0.5532,
          0.5417,
          0.5417,
          0.5417,
          0.5294,
          0.5208,
          0.52,
          0.52
         ],
         "yaxis": "y"
        }
       ],
       "layout": {
        "coloraxis": {
         "colorbar": {
          "title": {
           "text": "lift"
          }
         },
         "colorscale": [
          [
           0.0,
           "#0d0887"
          ],
          [
           0.1111111111111111,
           "#46039f"
          ],
          [
           0.2222222222222222,
           "#7201a8"
          ],
          [
           0.3333333333333333,
           "#9c179e"
          ],
          [
           0.4444444444444444,
           "#bd3786"
          ],
          [
           0.5555555555555556,
           "#d8576b"
          ],
          [
           0.6666666666666666,
           "#ed7953"
          ],
          [
           0.7777777777777778,
           "#fb9f3a"
          ],
          [
           0.8888888888888888,
           "#fdca26"
          ],
          [
           1.0,
           "#f0f921"
          ]
         ]
        },
        "height": 800,
        "legend": {
         "tracegroupgap": 0
        },
        "margin": {
         "t": 60
        },
        "plot_bgcolor": "rgb(240,240,240)",
        "template": {
         "data": {
          "bar": [
           {
            "error_x": {
             "color": "#2a3f5f"
            },
            "error_y": {
             "color": "#2a3f5f"
            },
            "marker": {
             "line": {
              "color": "#E5ECF6",
              "width": 0.5
             }
            },
            "type": "bar"
           }
          ],
          "barpolar": [
           {
            "marker": {
             "line": {
              "color": "#E5ECF6",
              "width": 0.5
             }
            },
            "type": "barpolar"
           }
          ],
          "carpet": [
           {
            "aaxis": {
             "endlinecolor": "#2a3f5f",
             "gridcolor": "white",
             "linecolor": "white",
             "minorgridcolor": "white",
             "startlinecolor": "#2a3f5f"
            },
            "baxis": {
             "endlinecolor": "#2a3f5f",
             "gridcolor": "white",
             "linecolor": "white",
             "minorgridcolor": "white",
             "startlinecolor": "#2a3f5f"
            },
            "type": "carpet"
           }
          ],
          "choropleth": [
           {
            "colorbar": {
             "outlinewidth": 0,
             "ticks": ""
            },
            "type": "choropleth"
           }
          ],
          "contour": [
           {
            "colorbar": {
             "outlinewidth": 0,
             "ticks": ""
            },
            "colorscale": [
             [
              0.0,
              "#0d0887"
             ],
             [
              0.1111111111111111,
              "#46039f"
             ],
             [
              0.2222222222222222,
              "#7201a8"
             ],
             [
              0.3333333333333333,
              "#9c179e"
             ],
             [
              0.4444444444444444,
              "#bd3786"
             ],
             [
              0.5555555555555556,
              "#d8576b"
             ],
             [
              0.6666666666666666,
              "#ed7953"
             ],
             [
              0.7777777777777778,
              "#fb9f3a"
             ],
             [
              0.8888888888888888,
              "#fdca26"
             ],
             [
              1.0,
              "#f0f921"
             ]
            ],
            "type": "contour"
           }
          ],
          "contourcarpet": [
           {
            "colorbar": {
             "outlinewidth": 0,
             "ticks": ""
            },
            "type": "contourcarpet"
           }
          ],
          "heatmap": [
           {
            "colorbar": {
             "outlinewidth": 0,
             "ticks": ""
            },
            "colorscale": [
             [
              0.0,
              "#0d0887"
             ],
             [
              0.1111111111111111,
              "#46039f"
             ],
             [
              0.2222222222222222,
              "#7201a8"
             ],
             [
              0.3333333333333333,
              "#9c179e"
             ],
             [
              0.4444444444444444,
              "#bd3786"
             ],
             [
              0.5555555555555556,
              "#d8576b"
             ],
             [
              0.6666666666666666,
              "#ed7953"
             ],
             [
              0.7777777777777778,
              "#fb9f3a"
             ],
             [
              0.8888888888888888,
              "#fdca26"
             ],
             [
              1.0,
              "#f0f921"
             ]
            ],
            "type": "heatmap"
           }
          ],
          "heatmapgl": [
           {
            "colorbar": {
             "outlinewidth": 0,
             "ticks": ""
            },
            "colorscale": [
             [
              0.0,
              "#0d0887"
             ],
             [
              0.1111111111111111,
              "#46039f"
             ],
             [
              0.2222222222222222,
              "#7201a8"
             ],
             [
              0.3333333333333333,
              "#9c179e"
             ],
             [
              0.4444444444444444,
              "#bd3786"
             ],
             [
              0.5555555555555556,
              "#d8576b"
             ],
             [
              0.6666666666666666,
              "#ed7953"
             ],
             [
              0.7777777777777778,
              "#fb9f3a"
             ],
             [
              0.8888888888888888,
              "#fdca26"
             ],
             [
              1.0,
              "#f0f921"
             ]
            ],
            "type": "heatmapgl"
           }
          ],
          "histogram": [
           {
            "marker": {
             "colorbar": {
              "outlinewidth": 0,
              "ticks": ""
             }
            },
            "type": "histogram"
           }
          ],
          "histogram2d": [
           {
            "colorbar": {
             "outlinewidth": 0,
             "ticks": ""
            },
            "colorscale": [
             [
              0.0,
              "#0d0887"
             ],
             [
              0.1111111111111111,
              "#46039f"
             ],
             [
              0.2222222222222222,
              "#7201a8"
             ],
             [
              0.3333333333333333,
              "#9c179e"
             ],
             [
              0.4444444444444444,
              "#bd3786"
             ],
             [
              0.5555555555555556,
              "#d8576b"
             ],
             [
              0.6666666666666666,
              "#ed7953"
             ],
             [
              0.7777777777777778,
              "#fb9f3a"
             ],
             [
              0.8888888888888888,
              "#fdca26"
             ],
             [
              1.0,
              "#f0f921"
             ]
            ],
            "type": "histogram2d"
           }
          ],
          "histogram2dcontour": [
           {
            "colorbar": {
             "outlinewidth": 0,
             "ticks": ""
            },
            "colorscale": [
             [
              0.0,
              "#0d0887"
             ],
             [
              0.1111111111111111,
              "#46039f"
             ],
             [
              0.2222222222222222,
              "#7201a8"
             ],
             [
              0.3333333333333333,
              "#9c179e"
             ],
             [
              0.4444444444444444,
              "#bd3786"
             ],
             [
              0.5555555555555556,
              "#d8576b"
             ],
             [
              0.6666666666666666,
              "#ed7953"
             ],
             [
              0.7777777777777778,
              "#fb9f3a"
             ],
             [
              0.8888888888888888,
              "#fdca26"
             ],
             [
              1.0,
              "#f0f921"
             ]
            ],
            "type": "histogram2dcontour"
           }
          ],
          "mesh3d": [
           {
            "colorbar": {
             "outlinewidth": 0,
             "ticks": ""
            },
            "type": "mesh3d"
           }
          ],
          "parcoords": [
           {
            "line": {
             "colorbar": {
              "outlinewidth": 0,
              "ticks": ""
             }
            },
            "type": "parcoords"
           }
          ],
          "pie": [
           {
            "automargin": true,
            "type": "pie"
           }
          ],
          "scatter": [
           {
            "marker": {
             "colorbar": {
              "outlinewidth": 0,
              "ticks": ""
             }
            },
            "type": "scatter"
           }
          ],
          "scatter3d": [
           {
            "line": {
             "colorbar": {
              "outlinewidth": 0,
              "ticks": ""
             }
            },
            "marker": {
             "colorbar": {
              "outlinewidth": 0,
              "ticks": ""
             }
            },
            "type": "scatter3d"
           }
          ],
          "scattercarpet": [
           {
            "marker": {
             "colorbar": {
              "outlinewidth": 0,
              "ticks": ""
             }
            },
            "type": "scattercarpet"
           }
          ],
          "scattergeo": [
           {
            "marker": {
             "colorbar": {
              "outlinewidth": 0,
              "ticks": ""
             }
            },
            "type": "scattergeo"
           }
          ],
          "scattergl": [
           {
            "marker": {
             "colorbar": {
              "outlinewidth": 0,
              "ticks": ""
             }
            },
            "type": "scattergl"
           }
          ],
          "scattermapbox": [
           {
            "marker": {
             "colorbar": {
              "outlinewidth": 0,
              "ticks": ""
             }
            },
            "type": "scattermapbox"
           }
          ],
          "scatterpolar": [
           {
            "marker": {
             "colorbar": {
              "outlinewidth": 0,
              "ticks": ""
             }
            },
            "type": "scatterpolar"
           }
          ],
          "scatterpolargl": [
           {
            "marker": {
             "colorbar": {
              "outlinewidth": 0,
              "ticks": ""
             }
            },
            "type": "scatterpolargl"
           }
          ],
          "scatterternary": [
           {
            "marker": {
             "colorbar": {
              "outlinewidth": 0,
              "ticks": ""
             }
            },
            "type": "scatterternary"
           }
          ],
          "surface": [
           {
            "colorbar": {
             "outlinewidth": 0,
             "ticks": ""
            },
            "colorscale": [
             [
              0.0,
              "#0d0887"
             ],
             [
              0.1111111111111111,
              "#46039f"
             ],
             [
              0.2222222222222222,
              "#7201a8"
             ],
             [
              0.3333333333333333,
              "#9c179e"
             ],
             [
              0.4444444444444444,
              "#bd3786"
             ],
             [
              0.5555555555555556,
              "#d8576b"
             ],
             [
              0.6666666666666666,
              "#ed7953"
             ],
             [
              0.7777777777777778,
              "#fb9f3a"
             ],
             [
              0.8888888888888888,
              "#fdca26"
             ],
             [
              1.0,
              "#f0f921"
             ]
            ],
            "type": "surface"
           }
          ],
          "table": [
           {
            "cells": {
             "fill": {
              "color": "#EBF0F8"
             },
             "line": {
              "color": "white"
             }
            },
            "header": {
             "fill": {
              "color": "#C8D4E3"
             },
             "line": {
              "color": "white"
             }
            },
            "type": "table"
           }
          ]
         },
         "layout": {
          "annotationdefaults": {
           "arrowcolor": "#2a3f5f",
           "arrowhead": 0,
           "arrowwidth": 1
          },
          "autotypenumbers": "strict",
          "coloraxis": {
           "colorbar": {
            "outlinewidth": 0,
            "ticks": ""
           }
          },
          "colorscale": {
           "diverging": [
            [
             0,
             "#8e0152"
            ],
            [
             0.1,
             "#c51b7d"
            ],
            [
             0.2,
             "#de77ae"
            ],
            [
             0.3,
             "#f1b6da"
            ],
            [
             0.4,
             "#fde0ef"
            ],
            [
             0.5,
             "#f7f7f7"
            ],
            [
             0.6,
             "#e6f5d0"
            ],
            [
             0.7,
             "#b8e186"
            ],
            [
             0.8,
             "#7fbc41"
            ],
            [
             0.9,
             "#4d9221"
            ],
            [
             1,
             "#276419"
            ]
           ],
           "sequential": [
            [
             0.0,
             "#0d0887"
            ],
            [
             0.1111111111111111,
             "#46039f"
            ],
            [
             0.2222222222222222,
             "#7201a8"
            ],
            [
             0.3333333333333333,
             "#9c179e"
            ],
            [
             0.4444444444444444,
             "#bd3786"
            ],
            [
             0.5555555555555556,
             "#d8576b"
            ],
            [
             0.6666666666666666,
             "#ed7953"
            ],
            [
             0.7777777777777778,
             "#fb9f3a"
            ],
            [
             0.8888888888888888,
             "#fdca26"
            ],
            [
             1.0,
             "#f0f921"
            ]
           ],
           "sequentialminus": [
            [
             0.0,
             "#0d0887"
            ],
            [
             0.1111111111111111,
             "#46039f"
            ],
            [
             0.2222222222222222,
             "#7201a8"
            ],
            [
             0.3333333333333333,
             "#9c179e"
            ],
            [
             0.4444444444444444,
             "#bd3786"
            ],
            [
             0.5555555555555556,
             "#d8576b"
            ],
            [
             0.6666666666666666,
             "#ed7953"
            ],
            [
             0.7777777777777778,
             "#fb9f3a"
            ],
            [
             0.8888888888888888,
             "#fdca26"
            ],
            [
             1.0,
             "#f0f921"
            ]
           ]
          },
          "colorway": [
           "#636efa",
           "#EF553B",
           "#00cc96",
           "#ab63fa",
           "#FFA15A",
           "#19d3f3",
           "#FF6692",
           "#B6E880",
           "#FF97FF",
           "#FECB52"
          ],
          "font": {
           "color": "#2a3f5f"
          },
          "geo": {
           "bgcolor": "white",
           "lakecolor": "white",
           "landcolor": "#E5ECF6",
           "showlakes": true,
           "showland": true,
           "subunitcolor": "white"
          },
          "hoverlabel": {
           "align": "left"
          },
          "hovermode": "closest",
          "mapbox": {
           "style": "light"
          },
          "paper_bgcolor": "white",
          "plot_bgcolor": "#E5ECF6",
          "polar": {
           "angularaxis": {
            "gridcolor": "white",
            "linecolor": "white",
            "ticks": ""
           },
           "bgcolor": "#E5ECF6",
           "radialaxis": {
            "gridcolor": "white",
            "linecolor": "white",
            "ticks": ""
           }
          },
          "scene": {
           "xaxis": {
            "backgroundcolor": "#E5ECF6",
            "gridcolor": "white",
            "gridwidth": 2,
            "linecolor": "white",
            "showbackground": true,
            "ticks": "",
            "zerolinecolor": "white"
           },
           "yaxis": {
            "backgroundcolor": "#E5ECF6",
            "gridcolor": "white",
            "gridwidth": 2,
            "linecolor": "white",
            "showbackground": true,
            "ticks": "",
            "zerolinecolor": "white"
           },
           "zaxis": {
            "backgroundcolor": "#E5ECF6",
            "gridcolor": "white",
            "gridwidth": 2,
            "linecolor": "white",
            "showbackground": true,
            "ticks": "",
            "zerolinecolor": "white"
           }
          },
          "shapedefaults": {
           "line": {
            "color": "#2a3f5f"
           }
          },
          "ternary": {
           "aaxis": {
            "gridcolor": "white",
            "linecolor": "white",
            "ticks": ""
           },
           "baxis": {
            "gridcolor": "white",
            "linecolor": "white",
            "ticks": ""
           },
           "bgcolor": "#E5ECF6",
           "caxis": {
            "gridcolor": "white",
            "linecolor": "white",
            "ticks": ""
           }
          },
          "title": {
           "x": 0.05
          },
          "xaxis": {
           "automargin": true,
           "gridcolor": "white",
           "linecolor": "white",
           "ticks": "",
           "title": {
            "standoff": 15
           },
           "zerolinecolor": "white",
           "zerolinewidth": 2
          },
          "yaxis": {
           "automargin": true,
           "gridcolor": "white",
           "linecolor": "white",
           "ticks": "",
           "title": {
            "standoff": 15
           },
           "zerolinecolor": "white",
           "zerolinewidth": 2
          }
         }
        },
        "title": {
         "text": "2D Plot of Support, Confidence and Lift"
        },
        "xaxis": {
         "anchor": "y",
         "domain": [
          0.0,
          1.0
         ],
         "title": {
          "text": "support"
         },
         "type": "log"
        },
        "yaxis": {
         "anchor": "x",
         "domain": [
          0.0,
          1.0
         ],
         "title": {
          "text": "confidence"
         }
        }
       }
      },
      "text/html": [
       "<div>                            <div id=\"9c56c902-4375-4d16-8f14-6a603ded5903\" class=\"plotly-graph-div\" style=\"height:800px; width:100%;\"></div>            <script type=\"text/javascript\">                require([\"plotly\"], function(Plotly) {                    window.PLOTLYENV=window.PLOTLYENV || {};                                    if (document.getElementById(\"9c56c902-4375-4d16-8f14-6a603ded5903\")) {                    Plotly.newPlot(                        \"9c56c902-4375-4d16-8f14-6a603ded5903\",                        [{\"customdata\": [[\"SET/6 RED SPOTTY PAPER PLATES\", \"SET/6 RED SPOTTY PAPER CUPS\"], [\"SET/20 RED RETROSPOT PAPER NAPKINS \", \"SET/6 RED SPOTTY PAPER PLATES\"], [\"SET/6 RED SPOTTY PAPER PLATES\", \"SET/6 RED SPOTTY PAPER CUPS\"], [\"CHILDRENS CUTLERY SPACEBOY \", \"CHILDRENS CUTLERY DOLLY GIRL \"], [\"SET/6 RED SPOTTY PAPER CUPS\", \"SET/6 RED SPOTTY PAPER PLATES\"], [\"ALARM CLOCK BAKELIKE GREEN\", \"ALARM CLOCK BAKELIKE RED \"], [\"CHILDRENS CUTLERY DOLLY GIRL \", \"CHILDRENS CUTLERY SPACEBOY \"], [\"ALARM CLOCK BAKELIKE RED \", \"ALARM CLOCK BAKELIKE GREEN\"], [\"ALARM CLOCK BAKELIKE RED \", \"ALARM CLOCK BAKELIKE GREEN\"], [\"SET/6 RED SPOTTY PAPER PLATES\", \"SET/20 RED RETROSPOT PAPER NAPKINS \"], [\"ALARM CLOCK BAKELIKE RED \", \"ALARM CLOCK BAKELIKE PINK\"], [\"SET/6 RED SPOTTY PAPER PLATES\", \"SET/20 RED RETROSPOT PAPER NAPKINS \"], [\"ALARM CLOCK BAKELIKE GREEN\", \"ALARM CLOCK BAKELIKE RED \"], [\"ALARM CLOCK BAKELIKE RED \", \"ALARM CLOCK BAKELIKE PINK\"], [\"SET/6 RED SPOTTY PAPER PLATES\", \"SET/20 RED RETROSPOT PAPER NAPKINS \"], [\"SET/20 RED RETROSPOT PAPER NAPKINS \", \"SET/6 RED SPOTTY PAPER CUPS\"], [\"SET/20 RED RETROSPOT PAPER NAPKINS \", \"SET/6 RED SPOTTY PAPER PLATES\"], [\"PLASTERS IN TIN SPACEBOY\", \"PLASTERS IN TIN WOODLAND ANIMALS\"], [\"SET/20 RED RETROSPOT PAPER NAPKINS \", \"SET/6 RED SPOTTY PAPER PLATES\"], [\"PLASTERS IN TIN SPACEBOY\", \"PLASTERS IN TIN WOODLAND ANIMALS\"], [\"ALARM CLOCK BAKELIKE GREEN\", \"ALARM CLOCK BAKELIKE PINK\"], [\"SET/6 RED SPOTTY PAPER CUPS\", \"SET/20 RED RETROSPOT PAPER NAPKINS \"], [\"ALARM CLOCK BAKELIKE PINK\", \"ALARM CLOCK BAKELIKE RED \"], [\"ALARM CLOCK BAKELIKE PINK\", \"ALARM CLOCK BAKELIKE GREEN\"], [\"SET/6 RED SPOTTY PAPER CUPS\", \"SET/6 RED SPOTTY PAPER PLATES\"], [\"DOLLY GIRL LUNCH BOX\", \"SPACEBOY LUNCH BOX \"], [\"ALARM CLOCK BAKELIKE RED \", \"ALARM CLOCK BAKELIKE GREEN\"], [\"PLASTERS IN TIN CIRCUS PARADE \", \"PLASTERS IN TIN SPACEBOY\"], [\"PLASTERS IN TIN SPACEBOY\", \"PLASTERS IN TIN CIRCUS PARADE \"], [\"PLASTERS IN TIN SPACEBOY\", \"PLASTERS IN TIN CIRCUS PARADE \"], [\"ALARM CLOCK BAKELIKE GREEN\", \"ALARM CLOCK BAKELIKE RED \"], [\"ALARM CLOCK BAKELIKE PINK\", \"ALARM CLOCK BAKELIKE RED \"], [\"PLASTERS IN TIN WOODLAND ANIMALS\", \"PLASTERS IN TIN SPACEBOY\"], [\"PLASTERS IN TIN WOODLAND ANIMALS\", \"PLASTERS IN TIN CIRCUS PARADE \"], [\"PLASTERS IN TIN CIRCUS PARADE \", \"PLASTERS IN TIN WOODLAND ANIMALS\"], [\"ROUND SNACK BOXES SET OF 4 FRUITS \", \"ROUND SNACK BOXES SET OF4 WOODLAND \"], [\"SPACEBOY LUNCH BOX \", \"DOLLY GIRL LUNCH BOX\"], [\"LUNCH BAG WOODLAND\", \"LUNCH BAG SPACEBOY DESIGN \"], [\"LUNCH BAG SPACEBOY DESIGN \", \"LUNCH BAG WOODLAND\"], [\"LUNCH BAG SPACEBOY DESIGN \", \"LUNCH BAG RED RETROSPOT\"], [\"LUNCH BAG SPACEBOY DESIGN \", \"LUNCH BAG APPLE DESIGN\"], [\"PLASTERS IN TIN CIRCUS PARADE \", \"PLASTERS IN TIN SPACEBOY\"], [\"STRAWBERRY LUNCH BOX WITH CUTLERY\", \"LUNCH BOX WITH CUTLERY RETROSPOT \"], [\"LUNCH BAG APPLE DESIGN\", \"LUNCH BAG SPACEBOY DESIGN \"], [\"LUNCH BAG APPLE DESIGN\", \"LUNCH BAG RED RETROSPOT\"]], \"hovertemplate\": \"support=%{x}<br>confidence=%{y}<br>antecedents_short=%{text}<br>antecedents=%{customdata[0]}<br>consequents=%{customdata[1]}<br>lift=%{marker.color}<extra></extra>\", \"legendgroup\": \"\", \"marker\": {\"color\": [8.3236, 8.9895, 8.1956, 14.719, 8.1956, 10.7409, 14.719, 10.1901, 9.9037, 7.2031, 9.2944, 7.0923, 9.9037, 9.0331, 8.9895, 6.567, 7.0923, 5.1604, 7.2031, 5.1292, 8.5699, 6.567, 9.0331, 8.5699, 8.3236, 6.5857, 10.7409, 5.6577, 4.4645, 4.4374, 10.1901, 9.2944, 5.1292, 4.0474, 4.0474, 4.1879, 6.5857, 5.3129, 5.3129, 4.0936, 4.9942, 4.4374, 4.2124, 4.9942, 3.9298], \"coloraxis\": \"coloraxis\", \"opacity\": 0.5, \"symbol\": \"circle\"}, \"mode\": \"markers+text\", \"name\": \"\", \"orientation\": \"v\", \"showlegend\": false, \"text\": [\"SET/6 RED \", \"SET/20 RED\", \"SET/6 RED \", \"CHILDRENS \", \"SET/6 RED \", \"ALARM CLOC\", \"CHILDRENS \", \"ALARM CLOC\", \"ALARM CLOC\", \"SET/6 RED \", \"ALARM CLOC\", \"SET/6 RED \", \"ALARM CLOC\", \"ALARM CLOC\", \"SET/6 RED \", \"SET/20 RED\", \"SET/20 RED\", \"PLASTERS I\", \"SET/20 RED\", \"PLASTERS I\", \"ALARM CLOC\", \"SET/6 RED \", \"ALARM CLOC\", \"ALARM CLOC\", \"SET/6 RED \", \"DOLLY GIRL\", \"ALARM CLOC\", \"PLASTERS I\", \"PLASTERS I\", \"PLASTERS I\", \"ALARM CLOC\", \"ALARM CLOC\", \"PLASTERS I\", \"PLASTERS I\", \"PLASTERS I\", \"ROUND SNAC\", \"SPACEBOY L\", \"LUNCH BAG \", \"LUNCH BAG \", \"LUNCH BAG \", \"LUNCH BAG \", \"PLASTERS I\", \"STRAWBERRY\", \"LUNCH BAG \", \"LUNCH BAG \"], \"textposition\": \"top center\", \"type\": \"scatter\", \"x\": [0.0846, 0.0846, 0.1041, 0.0542, 0.1041, 0.0542, 0.0542, 0.0542, 0.0672, 0.0846, 0.0542, 0.0868, 0.0672, 0.0629, 0.0846, 0.0868, 0.0868, 0.0586, 0.0846, 0.0889, 0.0629, 0.0868, 0.0629, 0.0629, 0.0846, 0.0607, 0.0542, 0.0586, 0.0586, 0.0781, 0.0542, 0.0542, 0.0889, 0.0868, 0.0868, 0.0542, 0.0607, 0.0564, 0.0564, 0.0564, 0.0564, 0.0781, 0.0542, 0.0564, 0.0564], \"xaxis\": \"x\", \"y\": [0.975, 0.975, 0.96, 0.9259, 0.8889, 0.8621, 0.8621, 0.8621, 0.8378, 0.8125, 0.8065, 0.8, 0.7949, 0.7838, 0.78, 0.7692, 0.7692, 0.75, 0.75, 0.7455, 0.7436, 0.7407, 0.725, 0.725, 0.7222, 0.7, 0.6757, 0.675, 0.6585, 0.6545, 0.641, 0.625, 0.6119, 0.597, 0.5882, 0.5814, 0.5714, 0.5532, 0.5417, 0.5417, 0.5417, 0.5294, 0.5208, 0.52, 0.52], \"yaxis\": \"y\"}],                        {\"coloraxis\": {\"colorbar\": {\"title\": {\"text\": \"lift\"}}, \"colorscale\": [[0.0, \"#0d0887\"], [0.1111111111111111, \"#46039f\"], [0.2222222222222222, \"#7201a8\"], [0.3333333333333333, \"#9c179e\"], [0.4444444444444444, \"#bd3786\"], [0.5555555555555556, \"#d8576b\"], [0.6666666666666666, \"#ed7953\"], [0.7777777777777778, \"#fb9f3a\"], [0.8888888888888888, \"#fdca26\"], [1.0, \"#f0f921\"]]}, \"height\": 800, \"legend\": {\"tracegroupgap\": 0}, \"margin\": {\"t\": 60}, \"plot_bgcolor\": \"rgb(240,240,240)\", \"template\": {\"data\": {\"bar\": [{\"error_x\": {\"color\": \"#2a3f5f\"}, \"error_y\": {\"color\": \"#2a3f5f\"}, \"marker\": {\"line\": {\"color\": \"#E5ECF6\", \"width\": 0.5}}, \"type\": \"bar\"}], \"barpolar\": [{\"marker\": {\"line\": {\"color\": \"#E5ECF6\", \"width\": 0.5}}, \"type\": \"barpolar\"}], \"carpet\": [{\"aaxis\": {\"endlinecolor\": \"#2a3f5f\", \"gridcolor\": \"white\", \"linecolor\": \"white\", \"minorgridcolor\": \"white\", \"startlinecolor\": \"#2a3f5f\"}, \"baxis\": {\"endlinecolor\": \"#2a3f5f\", \"gridcolor\": \"white\", \"linecolor\": \"white\", \"minorgridcolor\": \"white\", \"startlinecolor\": \"#2a3f5f\"}, \"type\": \"carpet\"}], \"choropleth\": [{\"colorbar\": {\"outlinewidth\": 0, \"ticks\": \"\"}, \"type\": \"choropleth\"}], \"contour\": [{\"colorbar\": {\"outlinewidth\": 0, \"ticks\": \"\"}, \"colorscale\": [[0.0, \"#0d0887\"], [0.1111111111111111, \"#46039f\"], [0.2222222222222222, \"#7201a8\"], [0.3333333333333333, \"#9c179e\"], [0.4444444444444444, \"#bd3786\"], [0.5555555555555556, \"#d8576b\"], [0.6666666666666666, \"#ed7953\"], [0.7777777777777778, \"#fb9f3a\"], [0.8888888888888888, \"#fdca26\"], [1.0, \"#f0f921\"]], \"type\": \"contour\"}], \"contourcarpet\": [{\"colorbar\": {\"outlinewidth\": 0, \"ticks\": \"\"}, \"type\": \"contourcarpet\"}], \"heatmap\": [{\"colorbar\": {\"outlinewidth\": 0, \"ticks\": \"\"}, \"colorscale\": [[0.0, \"#0d0887\"], [0.1111111111111111, \"#46039f\"], [0.2222222222222222, \"#7201a8\"], [0.3333333333333333, \"#9c179e\"], [0.4444444444444444, \"#bd3786\"], [0.5555555555555556, \"#d8576b\"], [0.6666666666666666, \"#ed7953\"], [0.7777777777777778, \"#fb9f3a\"], [0.8888888888888888, \"#fdca26\"], [1.0, \"#f0f921\"]], \"type\": \"heatmap\"}], \"heatmapgl\": [{\"colorbar\": {\"outlinewidth\": 0, \"ticks\": \"\"}, \"colorscale\": [[0.0, \"#0d0887\"], [0.1111111111111111, \"#46039f\"], [0.2222222222222222, \"#7201a8\"], [0.3333333333333333, \"#9c179e\"], [0.4444444444444444, \"#bd3786\"], [0.5555555555555556, \"#d8576b\"], [0.6666666666666666, \"#ed7953\"], [0.7777777777777778, \"#fb9f3a\"], [0.8888888888888888, \"#fdca26\"], [1.0, \"#f0f921\"]], \"type\": \"heatmapgl\"}], \"histogram\": [{\"marker\": {\"colorbar\": {\"outlinewidth\": 0, \"ticks\": \"\"}}, \"type\": \"histogram\"}], \"histogram2d\": [{\"colorbar\": {\"outlinewidth\": 0, \"ticks\": \"\"}, \"colorscale\": [[0.0, \"#0d0887\"], [0.1111111111111111, \"#46039f\"], [0.2222222222222222, \"#7201a8\"], [0.3333333333333333, \"#9c179e\"], [0.4444444444444444, \"#bd3786\"], [0.5555555555555556, \"#d8576b\"], [0.6666666666666666, \"#ed7953\"], [0.7777777777777778, \"#fb9f3a\"], [0.8888888888888888, \"#fdca26\"], [1.0, \"#f0f921\"]], \"type\": \"histogram2d\"}], \"histogram2dcontour\": [{\"colorbar\": {\"outlinewidth\": 0, \"ticks\": \"\"}, \"colorscale\": [[0.0, \"#0d0887\"], [0.1111111111111111, \"#46039f\"], [0.2222222222222222, \"#7201a8\"], [0.3333333333333333, \"#9c179e\"], [0.4444444444444444, \"#bd3786\"], [0.5555555555555556, \"#d8576b\"], [0.6666666666666666, \"#ed7953\"], [0.7777777777777778, \"#fb9f3a\"], [0.8888888888888888, \"#fdca26\"], [1.0, \"#f0f921\"]], \"type\": \"histogram2dcontour\"}], \"mesh3d\": [{\"colorbar\": {\"outlinewidth\": 0, \"ticks\": \"\"}, \"type\": \"mesh3d\"}], \"parcoords\": [{\"line\": {\"colorbar\": {\"outlinewidth\": 0, \"ticks\": \"\"}}, \"type\": \"parcoords\"}], \"pie\": [{\"automargin\": true, \"type\": \"pie\"}], \"scatter\": [{\"marker\": {\"colorbar\": {\"outlinewidth\": 0, \"ticks\": \"\"}}, \"type\": \"scatter\"}], \"scatter3d\": [{\"line\": {\"colorbar\": {\"outlinewidth\": 0, \"ticks\": \"\"}}, \"marker\": {\"colorbar\": {\"outlinewidth\": 0, \"ticks\": \"\"}}, \"type\": \"scatter3d\"}], \"scattercarpet\": [{\"marker\": {\"colorbar\": {\"outlinewidth\": 0, \"ticks\": \"\"}}, \"type\": \"scattercarpet\"}], \"scattergeo\": [{\"marker\": {\"colorbar\": {\"outlinewidth\": 0, \"ticks\": \"\"}}, \"type\": \"scattergeo\"}], \"scattergl\": [{\"marker\": {\"colorbar\": {\"outlinewidth\": 0, \"ticks\": \"\"}}, \"type\": \"scattergl\"}], \"scattermapbox\": [{\"marker\": {\"colorbar\": {\"outlinewidth\": 0, \"ticks\": \"\"}}, \"type\": \"scattermapbox\"}], \"scatterpolar\": [{\"marker\": {\"colorbar\": {\"outlinewidth\": 0, \"ticks\": \"\"}}, \"type\": \"scatterpolar\"}], \"scatterpolargl\": [{\"marker\": {\"colorbar\": {\"outlinewidth\": 0, \"ticks\": \"\"}}, \"type\": \"scatterpolargl\"}], \"scatterternary\": [{\"marker\": {\"colorbar\": {\"outlinewidth\": 0, \"ticks\": \"\"}}, \"type\": \"scatterternary\"}], \"surface\": [{\"colorbar\": {\"outlinewidth\": 0, \"ticks\": \"\"}, \"colorscale\": [[0.0, \"#0d0887\"], [0.1111111111111111, \"#46039f\"], [0.2222222222222222, \"#7201a8\"], [0.3333333333333333, \"#9c179e\"], [0.4444444444444444, \"#bd3786\"], [0.5555555555555556, \"#d8576b\"], [0.6666666666666666, \"#ed7953\"], [0.7777777777777778, \"#fb9f3a\"], [0.8888888888888888, \"#fdca26\"], [1.0, \"#f0f921\"]], \"type\": \"surface\"}], \"table\": [{\"cells\": {\"fill\": {\"color\": \"#EBF0F8\"}, \"line\": {\"color\": \"white\"}}, \"header\": {\"fill\": {\"color\": \"#C8D4E3\"}, \"line\": {\"color\": \"white\"}}, \"type\": \"table\"}]}, \"layout\": {\"annotationdefaults\": {\"arrowcolor\": \"#2a3f5f\", \"arrowhead\": 0, \"arrowwidth\": 1}, \"autotypenumbers\": \"strict\", \"coloraxis\": {\"colorbar\": {\"outlinewidth\": 0, \"ticks\": \"\"}}, \"colorscale\": {\"diverging\": [[0, \"#8e0152\"], [0.1, \"#c51b7d\"], [0.2, \"#de77ae\"], [0.3, \"#f1b6da\"], [0.4, \"#fde0ef\"], [0.5, \"#f7f7f7\"], [0.6, \"#e6f5d0\"], [0.7, \"#b8e186\"], [0.8, \"#7fbc41\"], [0.9, \"#4d9221\"], [1, \"#276419\"]], \"sequential\": [[0.0, \"#0d0887\"], [0.1111111111111111, \"#46039f\"], [0.2222222222222222, \"#7201a8\"], [0.3333333333333333, \"#9c179e\"], [0.4444444444444444, \"#bd3786\"], [0.5555555555555556, \"#d8576b\"], [0.6666666666666666, \"#ed7953\"], [0.7777777777777778, \"#fb9f3a\"], [0.8888888888888888, \"#fdca26\"], [1.0, \"#f0f921\"]], \"sequentialminus\": [[0.0, \"#0d0887\"], [0.1111111111111111, \"#46039f\"], [0.2222222222222222, \"#7201a8\"], [0.3333333333333333, \"#9c179e\"], [0.4444444444444444, \"#bd3786\"], [0.5555555555555556, \"#d8576b\"], [0.6666666666666666, \"#ed7953\"], [0.7777777777777778, \"#fb9f3a\"], [0.8888888888888888, \"#fdca26\"], [1.0, \"#f0f921\"]]}, \"colorway\": [\"#636efa\", \"#EF553B\", \"#00cc96\", \"#ab63fa\", \"#FFA15A\", \"#19d3f3\", \"#FF6692\", \"#B6E880\", \"#FF97FF\", \"#FECB52\"], \"font\": {\"color\": \"#2a3f5f\"}, \"geo\": {\"bgcolor\": \"white\", \"lakecolor\": \"white\", \"landcolor\": \"#E5ECF6\", \"showlakes\": true, \"showland\": true, \"subunitcolor\": \"white\"}, \"hoverlabel\": {\"align\": \"left\"}, \"hovermode\": \"closest\", \"mapbox\": {\"style\": \"light\"}, \"paper_bgcolor\": \"white\", \"plot_bgcolor\": \"#E5ECF6\", \"polar\": {\"angularaxis\": {\"gridcolor\": \"white\", \"linecolor\": \"white\", \"ticks\": \"\"}, \"bgcolor\": \"#E5ECF6\", \"radialaxis\": {\"gridcolor\": \"white\", \"linecolor\": \"white\", \"ticks\": \"\"}}, \"scene\": {\"xaxis\": {\"backgroundcolor\": \"#E5ECF6\", \"gridcolor\": \"white\", \"gridwidth\": 2, \"linecolor\": \"white\", \"showbackground\": true, \"ticks\": \"\", \"zerolinecolor\": \"white\"}, \"yaxis\": {\"backgroundcolor\": \"#E5ECF6\", \"gridcolor\": \"white\", \"gridwidth\": 2, \"linecolor\": \"white\", \"showbackground\": true, \"ticks\": \"\", \"zerolinecolor\": \"white\"}, \"zaxis\": {\"backgroundcolor\": \"#E5ECF6\", \"gridcolor\": \"white\", \"gridwidth\": 2, \"linecolor\": \"white\", \"showbackground\": true, \"ticks\": \"\", \"zerolinecolor\": \"white\"}}, \"shapedefaults\": {\"line\": {\"color\": \"#2a3f5f\"}}, \"ternary\": {\"aaxis\": {\"gridcolor\": \"white\", \"linecolor\": \"white\", \"ticks\": \"\"}, \"baxis\": {\"gridcolor\": \"white\", \"linecolor\": \"white\", \"ticks\": \"\"}, \"bgcolor\": \"#E5ECF6\", \"caxis\": {\"gridcolor\": \"white\", \"linecolor\": \"white\", \"ticks\": \"\"}}, \"title\": {\"x\": 0.05}, \"xaxis\": {\"automargin\": true, \"gridcolor\": \"white\", \"linecolor\": \"white\", \"ticks\": \"\", \"title\": {\"standoff\": 15}, \"zerolinecolor\": \"white\", \"zerolinewidth\": 2}, \"yaxis\": {\"automargin\": true, \"gridcolor\": \"white\", \"linecolor\": \"white\", \"ticks\": \"\", \"title\": {\"standoff\": 15}, \"zerolinecolor\": \"white\", \"zerolinewidth\": 2}}}, \"title\": {\"text\": \"2D Plot of Support, Confidence and Lift\"}, \"xaxis\": {\"anchor\": \"y\", \"domain\": [0.0, 1.0], \"title\": {\"text\": \"support\"}, \"type\": \"log\"}, \"yaxis\": {\"anchor\": \"x\", \"domain\": [0.0, 1.0], \"title\": {\"text\": \"confidence\"}}},                        {\"responsive\": true}                    ).then(function(){\n",
       "                            \n",
       "var gd = document.getElementById('9c56c902-4375-4d16-8f14-6a603ded5903');\n",
       "var x = new MutationObserver(function (mutations, observer) {{\n",
       "        var display = window.getComputedStyle(gd).display;\n",
       "        if (!display || display === 'none') {{\n",
       "            console.log([gd, 'removed!']);\n",
       "            Plotly.purge(gd);\n",
       "            observer.disconnect();\n",
       "        }}\n",
       "}});\n",
       "\n",
       "// Listen for the removal of the full notebook cells\n",
       "var notebookContainer = gd.closest('#notebook-container');\n",
       "if (notebookContainer) {{\n",
       "    x.observe(notebookContainer, {childList: true});\n",
       "}}\n",
       "\n",
       "// Listen for the clearing of the current output cell\n",
       "var outputEl = gd.closest('.output');\n",
       "if (outputEl) {{\n",
       "    x.observe(outputEl, {childList: true});\n",
       "}}\n",
       "\n",
       "                        })                };                });            </script>        </div>"
      ]
     },
     "metadata": {},
     "output_type": "display_data"
    }
   ],
   "source": [
    "plot_model(model2)# interactive 2D graph"
   ]
  },
  {
   "cell_type": "code",
   "execution_count": 17,
   "metadata": {
    "execution": {
     "iopub.execute_input": "2021-02-22T23:45:24.499289Z",
     "iopub.status.busy": "2021-02-22T23:45:24.498388Z",
     "iopub.status.idle": "2021-02-22T23:45:24.635167Z",
     "shell.execute_reply": "2021-02-22T23:45:24.635764Z"
    },
    "papermill": {
     "duration": 0.2078,
     "end_time": "2021-02-22T23:45:24.635955",
     "exception": false,
     "start_time": "2021-02-22T23:45:24.428155",
     "status": "completed"
    },
    "tags": []
   },
   "outputs": [
    {
     "data": {
      "text/html": [
       "        <script type=\"text/javascript\">\n",
       "        window.PlotlyConfig = {MathJaxConfig: 'local'};\n",
       "        if (window.MathJax) {MathJax.Hub.Config({SVG: {font: \"STIX-Web\"}});}\n",
       "        if (typeof require !== 'undefined') {\n",
       "        require.undef(\"plotly\");\n",
       "        requirejs.config({\n",
       "            paths: {\n",
       "                'plotly': ['https://cdn.plot.ly/plotly-latest.min']\n",
       "            }\n",
       "        });\n",
       "        require(['plotly'], function(Plotly) {\n",
       "            window._Plotly = Plotly;\n",
       "        });\n",
       "        }\n",
       "        </script>\n",
       "        "
      ]
     },
     "metadata": {},
     "output_type": "display_data"
    },
    {
     "data": {
      "application/vnd.plotly.v1+json": {
       "config": {
        "plotlyServerURL": "https://plot.ly"
       },
       "data": [
        {
         "customdata": [
          [
           "SET/6 RED SPOTTY PAPER PLATES",
           "SET/6 RED SPOTTY PAPER CUPS"
          ],
          [
           "SET/20 RED RETROSPOT PAPER NAPKINS ",
           "SET/6 RED SPOTTY PAPER PLATES"
          ],
          [
           "SET/6 RED SPOTTY PAPER PLATES",
           "SET/6 RED SPOTTY PAPER CUPS"
          ],
          [
           "CHILDRENS CUTLERY SPACEBOY ",
           "CHILDRENS CUTLERY DOLLY GIRL "
          ],
          [
           "SET/6 RED SPOTTY PAPER CUPS",
           "SET/6 RED SPOTTY PAPER PLATES"
          ],
          [
           "ALARM CLOCK BAKELIKE GREEN",
           "ALARM CLOCK BAKELIKE RED "
          ],
          [
           "CHILDRENS CUTLERY DOLLY GIRL ",
           "CHILDRENS CUTLERY SPACEBOY "
          ],
          [
           "ALARM CLOCK BAKELIKE RED ",
           "ALARM CLOCK BAKELIKE GREEN"
          ],
          [
           "ALARM CLOCK BAKELIKE RED ",
           "ALARM CLOCK BAKELIKE GREEN"
          ],
          [
           "SET/6 RED SPOTTY PAPER PLATES",
           "SET/20 RED RETROSPOT PAPER NAPKINS "
          ],
          [
           "ALARM CLOCK BAKELIKE RED ",
           "ALARM CLOCK BAKELIKE PINK"
          ],
          [
           "SET/6 RED SPOTTY PAPER PLATES",
           "SET/20 RED RETROSPOT PAPER NAPKINS "
          ],
          [
           "ALARM CLOCK BAKELIKE GREEN",
           "ALARM CLOCK BAKELIKE RED "
          ],
          [
           "ALARM CLOCK BAKELIKE RED ",
           "ALARM CLOCK BAKELIKE PINK"
          ],
          [
           "SET/6 RED SPOTTY PAPER PLATES",
           "SET/20 RED RETROSPOT PAPER NAPKINS "
          ],
          [
           "SET/20 RED RETROSPOT PAPER NAPKINS ",
           "SET/6 RED SPOTTY PAPER CUPS"
          ],
          [
           "SET/20 RED RETROSPOT PAPER NAPKINS ",
           "SET/6 RED SPOTTY PAPER PLATES"
          ],
          [
           "PLASTERS IN TIN SPACEBOY",
           "PLASTERS IN TIN WOODLAND ANIMALS"
          ],
          [
           "SET/20 RED RETROSPOT PAPER NAPKINS ",
           "SET/6 RED SPOTTY PAPER PLATES"
          ],
          [
           "PLASTERS IN TIN SPACEBOY",
           "PLASTERS IN TIN WOODLAND ANIMALS"
          ],
          [
           "ALARM CLOCK BAKELIKE GREEN",
           "ALARM CLOCK BAKELIKE PINK"
          ],
          [
           "SET/6 RED SPOTTY PAPER CUPS",
           "SET/20 RED RETROSPOT PAPER NAPKINS "
          ],
          [
           "ALARM CLOCK BAKELIKE PINK",
           "ALARM CLOCK BAKELIKE RED "
          ],
          [
           "ALARM CLOCK BAKELIKE PINK",
           "ALARM CLOCK BAKELIKE GREEN"
          ],
          [
           "SET/6 RED SPOTTY PAPER CUPS",
           "SET/6 RED SPOTTY PAPER PLATES"
          ],
          [
           "DOLLY GIRL LUNCH BOX",
           "SPACEBOY LUNCH BOX "
          ],
          [
           "ALARM CLOCK BAKELIKE RED ",
           "ALARM CLOCK BAKELIKE GREEN"
          ],
          [
           "PLASTERS IN TIN CIRCUS PARADE ",
           "PLASTERS IN TIN SPACEBOY"
          ],
          [
           "PLASTERS IN TIN SPACEBOY",
           "PLASTERS IN TIN CIRCUS PARADE "
          ],
          [
           "PLASTERS IN TIN SPACEBOY",
           "PLASTERS IN TIN CIRCUS PARADE "
          ],
          [
           "ALARM CLOCK BAKELIKE GREEN",
           "ALARM CLOCK BAKELIKE RED "
          ],
          [
           "ALARM CLOCK BAKELIKE PINK",
           "ALARM CLOCK BAKELIKE RED "
          ],
          [
           "PLASTERS IN TIN WOODLAND ANIMALS",
           "PLASTERS IN TIN SPACEBOY"
          ],
          [
           "PLASTERS IN TIN WOODLAND ANIMALS",
           "PLASTERS IN TIN CIRCUS PARADE "
          ],
          [
           "PLASTERS IN TIN CIRCUS PARADE ",
           "PLASTERS IN TIN WOODLAND ANIMALS"
          ],
          [
           "ROUND SNACK BOXES SET OF 4 FRUITS ",
           "ROUND SNACK BOXES SET OF4 WOODLAND "
          ],
          [
           "SPACEBOY LUNCH BOX ",
           "DOLLY GIRL LUNCH BOX"
          ],
          [
           "LUNCH BAG WOODLAND",
           "LUNCH BAG SPACEBOY DESIGN "
          ],
          [
           "LUNCH BAG SPACEBOY DESIGN ",
           "LUNCH BAG WOODLAND"
          ],
          [
           "LUNCH BAG SPACEBOY DESIGN ",
           "LUNCH BAG RED RETROSPOT"
          ],
          [
           "LUNCH BAG SPACEBOY DESIGN ",
           "LUNCH BAG APPLE DESIGN"
          ],
          [
           "PLASTERS IN TIN CIRCUS PARADE ",
           "PLASTERS IN TIN SPACEBOY"
          ],
          [
           "STRAWBERRY LUNCH BOX WITH CUTLERY",
           "LUNCH BOX WITH CUTLERY RETROSPOT "
          ],
          [
           "LUNCH BAG APPLE DESIGN",
           "LUNCH BAG SPACEBOY DESIGN "
          ],
          [
           "LUNCH BAG APPLE DESIGN",
           "LUNCH BAG RED RETROSPOT"
          ]
         ],
         "hovertemplate": "support=%{x}<br>confidence=%{y}<br>lift=%{z}<br>antecedents=%{customdata[0]}<br>consequents=%{customdata[1]}<br>antecedent support=%{marker.color}<extra></extra>",
         "legendgroup": "",
         "marker": {
          "color": [
           0.0868,
           0.0868,
           0.1085,
           0.0586,
           0.1171,
           0.0629,
           0.0629,
           0.0629,
           0.0803,
           0.1041,
           0.0672,
           0.1085,
           0.0846,
           0.0803,
           0.1085,
           0.1128,
           0.1128,
           0.0781,
           0.1128,
           0.1193,
           0.0846,
           0.1171,
           0.0868,
           0.0868,
           0.1171,
           0.0868,
           0.0803,
           0.0868,
           0.0889,
           0.1193,
           0.0846,
           0.0868,
           0.1453,
           0.1453,
           0.1475,
           0.0933,
           0.1063,
           0.102,
           0.1041,
           0.1041,
           0.1041,
           0.1475,
           0.1041,
           0.1085,
           0.1085
          ],
          "coloraxis": "coloraxis",
          "opacity": 0.7,
          "symbol": "circle"
         },
         "mode": "markers",
         "name": "",
         "scene": "scene",
         "showlegend": false,
         "type": "scatter3d",
         "x": [
          0.0846,
          0.0846,
          0.1041,
          0.0542,
          0.1041,
          0.0542,
          0.0542,
          0.0542,
          0.0672,
          0.0846,
          0.0542,
          0.0868,
          0.0672,
          0.0629,
          0.0846,
          0.0868,
          0.0868,
          0.0586,
          0.0846,
          0.0889,
          0.0629,
          0.0868,
          0.0629,
          0.0629,
          0.0846,
          0.0607,
          0.0542,
          0.0586,
          0.0586,
          0.0781,
          0.0542,
          0.0542,
          0.0889,
          0.0868,
          0.0868,
          0.0542,
          0.0607,
          0.0564,
          0.0564,
          0.0564,
          0.0564,
          0.0781,
          0.0542,
          0.0564,
          0.0564
         ],
         "y": [
          0.975,
          0.975,
          0.96,
          0.9259,
          0.8889,
          0.8621,
          0.8621,
          0.8621,
          0.8378,
          0.8125,
          0.8065,
          0.8,
          0.7949,
          0.7838,
          0.78,
          0.7692,
          0.7692,
          0.75,
          0.75,
          0.7455,
          0.7436,
          0.7407,
          0.725,
          0.725,
          0.7222,
          0.7,
          0.6757,
          0.675,
          0.6585,
          0.6545,
          0.641,
          0.625,
          0.6119,
          0.597,
          0.5882,
          0.5814,
          0.5714,
          0.5532,
          0.5417,
          0.5417,
          0.5417,
          0.5294,
          0.5208,
          0.52,
          0.52
         ],
         "z": [
          8.3236,
          8.9895,
          8.1956,
          14.719,
          8.1956,
          10.7409,
          14.719,
          10.1901,
          9.9037,
          7.2031,
          9.2944,
          7.0923,
          9.9037,
          9.0331,
          8.9895,
          6.567,
          7.0923,
          5.1604,
          7.2031,
          5.1292,
          8.5699,
          6.567,
          9.0331,
          8.5699,
          8.3236,
          6.5857,
          10.7409,
          5.6577,
          4.4645,
          4.4374,
          10.1901,
          9.2944,
          5.1292,
          4.0474,
          4.0474,
          4.1879,
          6.5857,
          5.3129,
          5.3129,
          4.0936,
          4.9942,
          4.4374,
          4.2124,
          4.9942,
          3.9298
         ]
        }
       ],
       "layout": {
        "coloraxis": {
         "colorbar": {
          "title": {
           "text": "antecedent support"
          }
         },
         "colorscale": [
          [
           0.0,
           "#0d0887"
          ],
          [
           0.1111111111111111,
           "#46039f"
          ],
          [
           0.2222222222222222,
           "#7201a8"
          ],
          [
           0.3333333333333333,
           "#9c179e"
          ],
          [
           0.4444444444444444,
           "#bd3786"
          ],
          [
           0.5555555555555556,
           "#d8576b"
          ],
          [
           0.6666666666666666,
           "#ed7953"
          ],
          [
           0.7777777777777778,
           "#fb9f3a"
          ],
          [
           0.8888888888888888,
           "#fdca26"
          ],
          [
           1.0,
           "#f0f921"
          ]
         ]
        },
        "height": 800,
        "legend": {
         "tracegroupgap": 0
        },
        "scene": {
         "domain": {
          "x": [
           0.0,
           1.0
          ],
          "y": [
           0.0,
           1.0
          ]
         },
         "xaxis": {
          "title": {
           "text": "support"
          }
         },
         "yaxis": {
          "title": {
           "text": "confidence"
          }
         },
         "zaxis": {
          "title": {
           "text": "lift"
          }
         }
        },
        "template": {
         "data": {
          "bar": [
           {
            "error_x": {
             "color": "#2a3f5f"
            },
            "error_y": {
             "color": "#2a3f5f"
            },
            "marker": {
             "line": {
              "color": "#E5ECF6",
              "width": 0.5
             }
            },
            "type": "bar"
           }
          ],
          "barpolar": [
           {
            "marker": {
             "line": {
              "color": "#E5ECF6",
              "width": 0.5
             }
            },
            "type": "barpolar"
           }
          ],
          "carpet": [
           {
            "aaxis": {
             "endlinecolor": "#2a3f5f",
             "gridcolor": "white",
             "linecolor": "white",
             "minorgridcolor": "white",
             "startlinecolor": "#2a3f5f"
            },
            "baxis": {
             "endlinecolor": "#2a3f5f",
             "gridcolor": "white",
             "linecolor": "white",
             "minorgridcolor": "white",
             "startlinecolor": "#2a3f5f"
            },
            "type": "carpet"
           }
          ],
          "choropleth": [
           {
            "colorbar": {
             "outlinewidth": 0,
             "ticks": ""
            },
            "type": "choropleth"
           }
          ],
          "contour": [
           {
            "colorbar": {
             "outlinewidth": 0,
             "ticks": ""
            },
            "colorscale": [
             [
              0.0,
              "#0d0887"
             ],
             [
              0.1111111111111111,
              "#46039f"
             ],
             [
              0.2222222222222222,
              "#7201a8"
             ],
             [
              0.3333333333333333,
              "#9c179e"
             ],
             [
              0.4444444444444444,
              "#bd3786"
             ],
             [
              0.5555555555555556,
              "#d8576b"
             ],
             [
              0.6666666666666666,
              "#ed7953"
             ],
             [
              0.7777777777777778,
              "#fb9f3a"
             ],
             [
              0.8888888888888888,
              "#fdca26"
             ],
             [
              1.0,
              "#f0f921"
             ]
            ],
            "type": "contour"
           }
          ],
          "contourcarpet": [
           {
            "colorbar": {
             "outlinewidth": 0,
             "ticks": ""
            },
            "type": "contourcarpet"
           }
          ],
          "heatmap": [
           {
            "colorbar": {
             "outlinewidth": 0,
             "ticks": ""
            },
            "colorscale": [
             [
              0.0,
              "#0d0887"
             ],
             [
              0.1111111111111111,
              "#46039f"
             ],
             [
              0.2222222222222222,
              "#7201a8"
             ],
             [
              0.3333333333333333,
              "#9c179e"
             ],
             [
              0.4444444444444444,
              "#bd3786"
             ],
             [
              0.5555555555555556,
              "#d8576b"
             ],
             [
              0.6666666666666666,
              "#ed7953"
             ],
             [
              0.7777777777777778,
              "#fb9f3a"
             ],
             [
              0.8888888888888888,
              "#fdca26"
             ],
             [
              1.0,
              "#f0f921"
             ]
            ],
            "type": "heatmap"
           }
          ],
          "heatmapgl": [
           {
            "colorbar": {
             "outlinewidth": 0,
             "ticks": ""
            },
            "colorscale": [
             [
              0.0,
              "#0d0887"
             ],
             [
              0.1111111111111111,
              "#46039f"
             ],
             [
              0.2222222222222222,
              "#7201a8"
             ],
             [
              0.3333333333333333,
              "#9c179e"
             ],
             [
              0.4444444444444444,
              "#bd3786"
             ],
             [
              0.5555555555555556,
              "#d8576b"
             ],
             [
              0.6666666666666666,
              "#ed7953"
             ],
             [
              0.7777777777777778,
              "#fb9f3a"
             ],
             [
              0.8888888888888888,
              "#fdca26"
             ],
             [
              1.0,
              "#f0f921"
             ]
            ],
            "type": "heatmapgl"
           }
          ],
          "histogram": [
           {
            "marker": {
             "colorbar": {
              "outlinewidth": 0,
              "ticks": ""
             }
            },
            "type": "histogram"
           }
          ],
          "histogram2d": [
           {
            "colorbar": {
             "outlinewidth": 0,
             "ticks": ""
            },
            "colorscale": [
             [
              0.0,
              "#0d0887"
             ],
             [
              0.1111111111111111,
              "#46039f"
             ],
             [
              0.2222222222222222,
              "#7201a8"
             ],
             [
              0.3333333333333333,
              "#9c179e"
             ],
             [
              0.4444444444444444,
              "#bd3786"
             ],
             [
              0.5555555555555556,
              "#d8576b"
             ],
             [
              0.6666666666666666,
              "#ed7953"
             ],
             [
              0.7777777777777778,
              "#fb9f3a"
             ],
             [
              0.8888888888888888,
              "#fdca26"
             ],
             [
              1.0,
              "#f0f921"
             ]
            ],
            "type": "histogram2d"
           }
          ],
          "histogram2dcontour": [
           {
            "colorbar": {
             "outlinewidth": 0,
             "ticks": ""
            },
            "colorscale": [
             [
              0.0,
              "#0d0887"
             ],
             [
              0.1111111111111111,
              "#46039f"
             ],
             [
              0.2222222222222222,
              "#7201a8"
             ],
             [
              0.3333333333333333,
              "#9c179e"
             ],
             [
              0.4444444444444444,
              "#bd3786"
             ],
             [
              0.5555555555555556,
              "#d8576b"
             ],
             [
              0.6666666666666666,
              "#ed7953"
             ],
             [
              0.7777777777777778,
              "#fb9f3a"
             ],
             [
              0.8888888888888888,
              "#fdca26"
             ],
             [
              1.0,
              "#f0f921"
             ]
            ],
            "type": "histogram2dcontour"
           }
          ],
          "mesh3d": [
           {
            "colorbar": {
             "outlinewidth": 0,
             "ticks": ""
            },
            "type": "mesh3d"
           }
          ],
          "parcoords": [
           {
            "line": {
             "colorbar": {
              "outlinewidth": 0,
              "ticks": ""
             }
            },
            "type": "parcoords"
           }
          ],
          "pie": [
           {
            "automargin": true,
            "type": "pie"
           }
          ],
          "scatter": [
           {
            "marker": {
             "colorbar": {
              "outlinewidth": 0,
              "ticks": ""
             }
            },
            "type": "scatter"
           }
          ],
          "scatter3d": [
           {
            "line": {
             "colorbar": {
              "outlinewidth": 0,
              "ticks": ""
             }
            },
            "marker": {
             "colorbar": {
              "outlinewidth": 0,
              "ticks": ""
             }
            },
            "type": "scatter3d"
           }
          ],
          "scattercarpet": [
           {
            "marker": {
             "colorbar": {
              "outlinewidth": 0,
              "ticks": ""
             }
            },
            "type": "scattercarpet"
           }
          ],
          "scattergeo": [
           {
            "marker": {
             "colorbar": {
              "outlinewidth": 0,
              "ticks": ""
             }
            },
            "type": "scattergeo"
           }
          ],
          "scattergl": [
           {
            "marker": {
             "colorbar": {
              "outlinewidth": 0,
              "ticks": ""
             }
            },
            "type": "scattergl"
           }
          ],
          "scattermapbox": [
           {
            "marker": {
             "colorbar": {
              "outlinewidth": 0,
              "ticks": ""
             }
            },
            "type": "scattermapbox"
           }
          ],
          "scatterpolar": [
           {
            "marker": {
             "colorbar": {
              "outlinewidth": 0,
              "ticks": ""
             }
            },
            "type": "scatterpolar"
           }
          ],
          "scatterpolargl": [
           {
            "marker": {
             "colorbar": {
              "outlinewidth": 0,
              "ticks": ""
             }
            },
            "type": "scatterpolargl"
           }
          ],
          "scatterternary": [
           {
            "marker": {
             "colorbar": {
              "outlinewidth": 0,
              "ticks": ""
             }
            },
            "type": "scatterternary"
           }
          ],
          "surface": [
           {
            "colorbar": {
             "outlinewidth": 0,
             "ticks": ""
            },
            "colorscale": [
             [
              0.0,
              "#0d0887"
             ],
             [
              0.1111111111111111,
              "#46039f"
             ],
             [
              0.2222222222222222,
              "#7201a8"
             ],
             [
              0.3333333333333333,
              "#9c179e"
             ],
             [
              0.4444444444444444,
              "#bd3786"
             ],
             [
              0.5555555555555556,
              "#d8576b"
             ],
             [
              0.6666666666666666,
              "#ed7953"
             ],
             [
              0.7777777777777778,
              "#fb9f3a"
             ],
             [
              0.8888888888888888,
              "#fdca26"
             ],
             [
              1.0,
              "#f0f921"
             ]
            ],
            "type": "surface"
           }
          ],
          "table": [
           {
            "cells": {
             "fill": {
              "color": "#EBF0F8"
             },
             "line": {
              "color": "white"
             }
            },
            "header": {
             "fill": {
              "color": "#C8D4E3"
             },
             "line": {
              "color": "white"
             }
            },
            "type": "table"
           }
          ]
         },
         "layout": {
          "annotationdefaults": {
           "arrowcolor": "#2a3f5f",
           "arrowhead": 0,
           "arrowwidth": 1
          },
          "autotypenumbers": "strict",
          "coloraxis": {
           "colorbar": {
            "outlinewidth": 0,
            "ticks": ""
           }
          },
          "colorscale": {
           "diverging": [
            [
             0,
             "#8e0152"
            ],
            [
             0.1,
             "#c51b7d"
            ],
            [
             0.2,
             "#de77ae"
            ],
            [
             0.3,
             "#f1b6da"
            ],
            [
             0.4,
             "#fde0ef"
            ],
            [
             0.5,
             "#f7f7f7"
            ],
            [
             0.6,
             "#e6f5d0"
            ],
            [
             0.7,
             "#b8e186"
            ],
            [
             0.8,
             "#7fbc41"
            ],
            [
             0.9,
             "#4d9221"
            ],
            [
             1,
             "#276419"
            ]
           ],
           "sequential": [
            [
             0.0,
             "#0d0887"
            ],
            [
             0.1111111111111111,
             "#46039f"
            ],
            [
             0.2222222222222222,
             "#7201a8"
            ],
            [
             0.3333333333333333,
             "#9c179e"
            ],
            [
             0.4444444444444444,
             "#bd3786"
            ],
            [
             0.5555555555555556,
             "#d8576b"
            ],
            [
             0.6666666666666666,
             "#ed7953"
            ],
            [
             0.7777777777777778,
             "#fb9f3a"
            ],
            [
             0.8888888888888888,
             "#fdca26"
            ],
            [
             1.0,
             "#f0f921"
            ]
           ],
           "sequentialminus": [
            [
             0.0,
             "#0d0887"
            ],
            [
             0.1111111111111111,
             "#46039f"
            ],
            [
             0.2222222222222222,
             "#7201a8"
            ],
            [
             0.3333333333333333,
             "#9c179e"
            ],
            [
             0.4444444444444444,
             "#bd3786"
            ],
            [
             0.5555555555555556,
             "#d8576b"
            ],
            [
             0.6666666666666666,
             "#ed7953"
            ],
            [
             0.7777777777777778,
             "#fb9f3a"
            ],
            [
             0.8888888888888888,
             "#fdca26"
            ],
            [
             1.0,
             "#f0f921"
            ]
           ]
          },
          "colorway": [
           "#636efa",
           "#EF553B",
           "#00cc96",
           "#ab63fa",
           "#FFA15A",
           "#19d3f3",
           "#FF6692",
           "#B6E880",
           "#FF97FF",
           "#FECB52"
          ],
          "font": {
           "color": "#2a3f5f"
          },
          "geo": {
           "bgcolor": "white",
           "lakecolor": "white",
           "landcolor": "#E5ECF6",
           "showlakes": true,
           "showland": true,
           "subunitcolor": "white"
          },
          "hoverlabel": {
           "align": "left"
          },
          "hovermode": "closest",
          "mapbox": {
           "style": "light"
          },
          "paper_bgcolor": "white",
          "plot_bgcolor": "#E5ECF6",
          "polar": {
           "angularaxis": {
            "gridcolor": "white",
            "linecolor": "white",
            "ticks": ""
           },
           "bgcolor": "#E5ECF6",
           "radialaxis": {
            "gridcolor": "white",
            "linecolor": "white",
            "ticks": ""
           }
          },
          "scene": {
           "xaxis": {
            "backgroundcolor": "#E5ECF6",
            "gridcolor": "white",
            "gridwidth": 2,
            "linecolor": "white",
            "showbackground": true,
            "ticks": "",
            "zerolinecolor": "white"
           },
           "yaxis": {
            "backgroundcolor": "#E5ECF6",
            "gridcolor": "white",
            "gridwidth": 2,
            "linecolor": "white",
            "showbackground": true,
            "ticks": "",
            "zerolinecolor": "white"
           },
           "zaxis": {
            "backgroundcolor": "#E5ECF6",
            "gridcolor": "white",
            "gridwidth": 2,
            "linecolor": "white",
            "showbackground": true,
            "ticks": "",
            "zerolinecolor": "white"
           }
          },
          "shapedefaults": {
           "line": {
            "color": "#2a3f5f"
           }
          },
          "ternary": {
           "aaxis": {
            "gridcolor": "white",
            "linecolor": "white",
            "ticks": ""
           },
           "baxis": {
            "gridcolor": "white",
            "linecolor": "white",
            "ticks": ""
           },
           "bgcolor": "#E5ECF6",
           "caxis": {
            "gridcolor": "white",
            "linecolor": "white",
            "ticks": ""
           }
          },
          "title": {
           "x": 0.05
          },
          "xaxis": {
           "automargin": true,
           "gridcolor": "white",
           "linecolor": "white",
           "ticks": "",
           "title": {
            "standoff": 15
           },
           "zerolinecolor": "white",
           "zerolinewidth": 2
          },
          "yaxis": {
           "automargin": true,
           "gridcolor": "white",
           "linecolor": "white",
           "ticks": "",
           "title": {
            "standoff": 15
           },
           "zerolinecolor": "white",
           "zerolinewidth": 2
          }
         }
        },
        "title": {
         "text": "3d Plot for Rule Mining"
        },
        "width": 900
       }
      },
      "text/html": [
       "<div>                            <div id=\"30493fa7-4fe1-4486-b54b-4f849fd86ef7\" class=\"plotly-graph-div\" style=\"height:800px; width:900px;\"></div>            <script type=\"text/javascript\">                require([\"plotly\"], function(Plotly) {                    window.PLOTLYENV=window.PLOTLYENV || {};                                    if (document.getElementById(\"30493fa7-4fe1-4486-b54b-4f849fd86ef7\")) {                    Plotly.newPlot(                        \"30493fa7-4fe1-4486-b54b-4f849fd86ef7\",                        [{\"customdata\": [[\"SET/6 RED SPOTTY PAPER PLATES\", \"SET/6 RED SPOTTY PAPER CUPS\"], [\"SET/20 RED RETROSPOT PAPER NAPKINS \", \"SET/6 RED SPOTTY PAPER PLATES\"], [\"SET/6 RED SPOTTY PAPER PLATES\", \"SET/6 RED SPOTTY PAPER CUPS\"], [\"CHILDRENS CUTLERY SPACEBOY \", \"CHILDRENS CUTLERY DOLLY GIRL \"], [\"SET/6 RED SPOTTY PAPER CUPS\", \"SET/6 RED SPOTTY PAPER PLATES\"], [\"ALARM CLOCK BAKELIKE GREEN\", \"ALARM CLOCK BAKELIKE RED \"], [\"CHILDRENS CUTLERY DOLLY GIRL \", \"CHILDRENS CUTLERY SPACEBOY \"], [\"ALARM CLOCK BAKELIKE RED \", \"ALARM CLOCK BAKELIKE GREEN\"], [\"ALARM CLOCK BAKELIKE RED \", \"ALARM CLOCK BAKELIKE GREEN\"], [\"SET/6 RED SPOTTY PAPER PLATES\", \"SET/20 RED RETROSPOT PAPER NAPKINS \"], [\"ALARM CLOCK BAKELIKE RED \", \"ALARM CLOCK BAKELIKE PINK\"], [\"SET/6 RED SPOTTY PAPER PLATES\", \"SET/20 RED RETROSPOT PAPER NAPKINS \"], [\"ALARM CLOCK BAKELIKE GREEN\", \"ALARM CLOCK BAKELIKE RED \"], [\"ALARM CLOCK BAKELIKE RED \", \"ALARM CLOCK BAKELIKE PINK\"], [\"SET/6 RED SPOTTY PAPER PLATES\", \"SET/20 RED RETROSPOT PAPER NAPKINS \"], [\"SET/20 RED RETROSPOT PAPER NAPKINS \", \"SET/6 RED SPOTTY PAPER CUPS\"], [\"SET/20 RED RETROSPOT PAPER NAPKINS \", \"SET/6 RED SPOTTY PAPER PLATES\"], [\"PLASTERS IN TIN SPACEBOY\", \"PLASTERS IN TIN WOODLAND ANIMALS\"], [\"SET/20 RED RETROSPOT PAPER NAPKINS \", \"SET/6 RED SPOTTY PAPER PLATES\"], [\"PLASTERS IN TIN SPACEBOY\", \"PLASTERS IN TIN WOODLAND ANIMALS\"], [\"ALARM CLOCK BAKELIKE GREEN\", \"ALARM CLOCK BAKELIKE PINK\"], [\"SET/6 RED SPOTTY PAPER CUPS\", \"SET/20 RED RETROSPOT PAPER NAPKINS \"], [\"ALARM CLOCK BAKELIKE PINK\", \"ALARM CLOCK BAKELIKE RED \"], [\"ALARM CLOCK BAKELIKE PINK\", \"ALARM CLOCK BAKELIKE GREEN\"], [\"SET/6 RED SPOTTY PAPER CUPS\", \"SET/6 RED SPOTTY PAPER PLATES\"], [\"DOLLY GIRL LUNCH BOX\", \"SPACEBOY LUNCH BOX \"], [\"ALARM CLOCK BAKELIKE RED \", \"ALARM CLOCK BAKELIKE GREEN\"], [\"PLASTERS IN TIN CIRCUS PARADE \", \"PLASTERS IN TIN SPACEBOY\"], [\"PLASTERS IN TIN SPACEBOY\", \"PLASTERS IN TIN CIRCUS PARADE \"], [\"PLASTERS IN TIN SPACEBOY\", \"PLASTERS IN TIN CIRCUS PARADE \"], [\"ALARM CLOCK BAKELIKE GREEN\", \"ALARM CLOCK BAKELIKE RED \"], [\"ALARM CLOCK BAKELIKE PINK\", \"ALARM CLOCK BAKELIKE RED \"], [\"PLASTERS IN TIN WOODLAND ANIMALS\", \"PLASTERS IN TIN SPACEBOY\"], [\"PLASTERS IN TIN WOODLAND ANIMALS\", \"PLASTERS IN TIN CIRCUS PARADE \"], [\"PLASTERS IN TIN CIRCUS PARADE \", \"PLASTERS IN TIN WOODLAND ANIMALS\"], [\"ROUND SNACK BOXES SET OF 4 FRUITS \", \"ROUND SNACK BOXES SET OF4 WOODLAND \"], [\"SPACEBOY LUNCH BOX \", \"DOLLY GIRL LUNCH BOX\"], [\"LUNCH BAG WOODLAND\", \"LUNCH BAG SPACEBOY DESIGN \"], [\"LUNCH BAG SPACEBOY DESIGN \", \"LUNCH BAG WOODLAND\"], [\"LUNCH BAG SPACEBOY DESIGN \", \"LUNCH BAG RED RETROSPOT\"], [\"LUNCH BAG SPACEBOY DESIGN \", \"LUNCH BAG APPLE DESIGN\"], [\"PLASTERS IN TIN CIRCUS PARADE \", \"PLASTERS IN TIN SPACEBOY\"], [\"STRAWBERRY LUNCH BOX WITH CUTLERY\", \"LUNCH BOX WITH CUTLERY RETROSPOT \"], [\"LUNCH BAG APPLE DESIGN\", \"LUNCH BAG SPACEBOY DESIGN \"], [\"LUNCH BAG APPLE DESIGN\", \"LUNCH BAG RED RETROSPOT\"]], \"hovertemplate\": \"support=%{x}<br>confidence=%{y}<br>lift=%{z}<br>antecedents=%{customdata[0]}<br>consequents=%{customdata[1]}<br>antecedent support=%{marker.color}<extra></extra>\", \"legendgroup\": \"\", \"marker\": {\"color\": [0.0868, 0.0868, 0.1085, 0.0586, 0.1171, 0.0629, 0.0629, 0.0629, 0.0803, 0.1041, 0.0672, 0.1085, 0.0846, 0.0803, 0.1085, 0.1128, 0.1128, 0.0781, 0.1128, 0.1193, 0.0846, 0.1171, 0.0868, 0.0868, 0.1171, 0.0868, 0.0803, 0.0868, 0.0889, 0.1193, 0.0846, 0.0868, 0.1453, 0.1453, 0.1475, 0.0933, 0.1063, 0.102, 0.1041, 0.1041, 0.1041, 0.1475, 0.1041, 0.1085, 0.1085], \"coloraxis\": \"coloraxis\", \"opacity\": 0.7, \"symbol\": \"circle\"}, \"mode\": \"markers\", \"name\": \"\", \"scene\": \"scene\", \"showlegend\": false, \"type\": \"scatter3d\", \"x\": [0.0846, 0.0846, 0.1041, 0.0542, 0.1041, 0.0542, 0.0542, 0.0542, 0.0672, 0.0846, 0.0542, 0.0868, 0.0672, 0.0629, 0.0846, 0.0868, 0.0868, 0.0586, 0.0846, 0.0889, 0.0629, 0.0868, 0.0629, 0.0629, 0.0846, 0.0607, 0.0542, 0.0586, 0.0586, 0.0781, 0.0542, 0.0542, 0.0889, 0.0868, 0.0868, 0.0542, 0.0607, 0.0564, 0.0564, 0.0564, 0.0564, 0.0781, 0.0542, 0.0564, 0.0564], \"y\": [0.975, 0.975, 0.96, 0.9259, 0.8889, 0.8621, 0.8621, 0.8621, 0.8378, 0.8125, 0.8065, 0.8, 0.7949, 0.7838, 0.78, 0.7692, 0.7692, 0.75, 0.75, 0.7455, 0.7436, 0.7407, 0.725, 0.725, 0.7222, 0.7, 0.6757, 0.675, 0.6585, 0.6545, 0.641, 0.625, 0.6119, 0.597, 0.5882, 0.5814, 0.5714, 0.5532, 0.5417, 0.5417, 0.5417, 0.5294, 0.5208, 0.52, 0.52], \"z\": [8.3236, 8.9895, 8.1956, 14.719, 8.1956, 10.7409, 14.719, 10.1901, 9.9037, 7.2031, 9.2944, 7.0923, 9.9037, 9.0331, 8.9895, 6.567, 7.0923, 5.1604, 7.2031, 5.1292, 8.5699, 6.567, 9.0331, 8.5699, 8.3236, 6.5857, 10.7409, 5.6577, 4.4645, 4.4374, 10.1901, 9.2944, 5.1292, 4.0474, 4.0474, 4.1879, 6.5857, 5.3129, 5.3129, 4.0936, 4.9942, 4.4374, 4.2124, 4.9942, 3.9298]}],                        {\"coloraxis\": {\"colorbar\": {\"title\": {\"text\": \"antecedent support\"}}, \"colorscale\": [[0.0, \"#0d0887\"], [0.1111111111111111, \"#46039f\"], [0.2222222222222222, \"#7201a8\"], [0.3333333333333333, \"#9c179e\"], [0.4444444444444444, \"#bd3786\"], [0.5555555555555556, \"#d8576b\"], [0.6666666666666666, \"#ed7953\"], [0.7777777777777778, \"#fb9f3a\"], [0.8888888888888888, \"#fdca26\"], [1.0, \"#f0f921\"]]}, \"height\": 800, \"legend\": {\"tracegroupgap\": 0}, \"scene\": {\"domain\": {\"x\": [0.0, 1.0], \"y\": [0.0, 1.0]}, \"xaxis\": {\"title\": {\"text\": \"support\"}}, \"yaxis\": {\"title\": {\"text\": \"confidence\"}}, \"zaxis\": {\"title\": {\"text\": \"lift\"}}}, \"template\": {\"data\": {\"bar\": [{\"error_x\": {\"color\": \"#2a3f5f\"}, \"error_y\": {\"color\": \"#2a3f5f\"}, \"marker\": {\"line\": {\"color\": \"#E5ECF6\", \"width\": 0.5}}, \"type\": \"bar\"}], \"barpolar\": [{\"marker\": {\"line\": {\"color\": \"#E5ECF6\", \"width\": 0.5}}, \"type\": \"barpolar\"}], \"carpet\": [{\"aaxis\": {\"endlinecolor\": \"#2a3f5f\", \"gridcolor\": \"white\", \"linecolor\": \"white\", \"minorgridcolor\": \"white\", \"startlinecolor\": \"#2a3f5f\"}, \"baxis\": {\"endlinecolor\": \"#2a3f5f\", \"gridcolor\": \"white\", \"linecolor\": \"white\", \"minorgridcolor\": \"white\", \"startlinecolor\": \"#2a3f5f\"}, \"type\": \"carpet\"}], \"choropleth\": [{\"colorbar\": {\"outlinewidth\": 0, \"ticks\": \"\"}, \"type\": \"choropleth\"}], \"contour\": [{\"colorbar\": {\"outlinewidth\": 0, \"ticks\": \"\"}, \"colorscale\": [[0.0, \"#0d0887\"], [0.1111111111111111, \"#46039f\"], [0.2222222222222222, \"#7201a8\"], [0.3333333333333333, \"#9c179e\"], [0.4444444444444444, \"#bd3786\"], [0.5555555555555556, \"#d8576b\"], [0.6666666666666666, \"#ed7953\"], [0.7777777777777778, \"#fb9f3a\"], [0.8888888888888888, \"#fdca26\"], [1.0, \"#f0f921\"]], \"type\": \"contour\"}], \"contourcarpet\": [{\"colorbar\": {\"outlinewidth\": 0, \"ticks\": \"\"}, \"type\": \"contourcarpet\"}], \"heatmap\": [{\"colorbar\": {\"outlinewidth\": 0, \"ticks\": \"\"}, \"colorscale\": [[0.0, \"#0d0887\"], [0.1111111111111111, \"#46039f\"], [0.2222222222222222, \"#7201a8\"], [0.3333333333333333, \"#9c179e\"], [0.4444444444444444, \"#bd3786\"], [0.5555555555555556, \"#d8576b\"], [0.6666666666666666, \"#ed7953\"], [0.7777777777777778, \"#fb9f3a\"], [0.8888888888888888, \"#fdca26\"], [1.0, \"#f0f921\"]], \"type\": \"heatmap\"}], \"heatmapgl\": [{\"colorbar\": {\"outlinewidth\": 0, \"ticks\": \"\"}, \"colorscale\": [[0.0, \"#0d0887\"], [0.1111111111111111, \"#46039f\"], [0.2222222222222222, \"#7201a8\"], [0.3333333333333333, \"#9c179e\"], [0.4444444444444444, \"#bd3786\"], [0.5555555555555556, \"#d8576b\"], [0.6666666666666666, \"#ed7953\"], [0.7777777777777778, \"#fb9f3a\"], [0.8888888888888888, \"#fdca26\"], [1.0, \"#f0f921\"]], \"type\": \"heatmapgl\"}], \"histogram\": [{\"marker\": {\"colorbar\": {\"outlinewidth\": 0, \"ticks\": \"\"}}, \"type\": \"histogram\"}], \"histogram2d\": [{\"colorbar\": {\"outlinewidth\": 0, \"ticks\": \"\"}, \"colorscale\": [[0.0, \"#0d0887\"], [0.1111111111111111, \"#46039f\"], [0.2222222222222222, \"#7201a8\"], [0.3333333333333333, \"#9c179e\"], [0.4444444444444444, \"#bd3786\"], [0.5555555555555556, \"#d8576b\"], [0.6666666666666666, \"#ed7953\"], [0.7777777777777778, \"#fb9f3a\"], [0.8888888888888888, \"#fdca26\"], [1.0, \"#f0f921\"]], \"type\": \"histogram2d\"}], \"histogram2dcontour\": [{\"colorbar\": {\"outlinewidth\": 0, \"ticks\": \"\"}, \"colorscale\": [[0.0, \"#0d0887\"], [0.1111111111111111, \"#46039f\"], [0.2222222222222222, \"#7201a8\"], [0.3333333333333333, \"#9c179e\"], [0.4444444444444444, \"#bd3786\"], [0.5555555555555556, \"#d8576b\"], [0.6666666666666666, \"#ed7953\"], [0.7777777777777778, \"#fb9f3a\"], [0.8888888888888888, \"#fdca26\"], [1.0, \"#f0f921\"]], \"type\": \"histogram2dcontour\"}], \"mesh3d\": [{\"colorbar\": {\"outlinewidth\": 0, \"ticks\": \"\"}, \"type\": \"mesh3d\"}], \"parcoords\": [{\"line\": {\"colorbar\": {\"outlinewidth\": 0, \"ticks\": \"\"}}, \"type\": \"parcoords\"}], \"pie\": [{\"automargin\": true, \"type\": \"pie\"}], \"scatter\": [{\"marker\": {\"colorbar\": {\"outlinewidth\": 0, \"ticks\": \"\"}}, \"type\": \"scatter\"}], \"scatter3d\": [{\"line\": {\"colorbar\": {\"outlinewidth\": 0, \"ticks\": \"\"}}, \"marker\": {\"colorbar\": {\"outlinewidth\": 0, \"ticks\": \"\"}}, \"type\": \"scatter3d\"}], \"scattercarpet\": [{\"marker\": {\"colorbar\": {\"outlinewidth\": 0, \"ticks\": \"\"}}, \"type\": \"scattercarpet\"}], \"scattergeo\": [{\"marker\": {\"colorbar\": {\"outlinewidth\": 0, \"ticks\": \"\"}}, \"type\": \"scattergeo\"}], \"scattergl\": [{\"marker\": {\"colorbar\": {\"outlinewidth\": 0, \"ticks\": \"\"}}, \"type\": \"scattergl\"}], \"scattermapbox\": [{\"marker\": {\"colorbar\": {\"outlinewidth\": 0, \"ticks\": \"\"}}, \"type\": \"scattermapbox\"}], \"scatterpolar\": [{\"marker\": {\"colorbar\": {\"outlinewidth\": 0, \"ticks\": \"\"}}, \"type\": \"scatterpolar\"}], \"scatterpolargl\": [{\"marker\": {\"colorbar\": {\"outlinewidth\": 0, \"ticks\": \"\"}}, \"type\": \"scatterpolargl\"}], \"scatterternary\": [{\"marker\": {\"colorbar\": {\"outlinewidth\": 0, \"ticks\": \"\"}}, \"type\": \"scatterternary\"}], \"surface\": [{\"colorbar\": {\"outlinewidth\": 0, \"ticks\": \"\"}, \"colorscale\": [[0.0, \"#0d0887\"], [0.1111111111111111, \"#46039f\"], [0.2222222222222222, \"#7201a8\"], [0.3333333333333333, \"#9c179e\"], [0.4444444444444444, \"#bd3786\"], [0.5555555555555556, \"#d8576b\"], [0.6666666666666666, \"#ed7953\"], [0.7777777777777778, \"#fb9f3a\"], [0.8888888888888888, \"#fdca26\"], [1.0, \"#f0f921\"]], \"type\": \"surface\"}], \"table\": [{\"cells\": {\"fill\": {\"color\": \"#EBF0F8\"}, \"line\": {\"color\": \"white\"}}, \"header\": {\"fill\": {\"color\": \"#C8D4E3\"}, \"line\": {\"color\": \"white\"}}, \"type\": \"table\"}]}, \"layout\": {\"annotationdefaults\": {\"arrowcolor\": \"#2a3f5f\", \"arrowhead\": 0, \"arrowwidth\": 1}, \"autotypenumbers\": \"strict\", \"coloraxis\": {\"colorbar\": {\"outlinewidth\": 0, \"ticks\": \"\"}}, \"colorscale\": {\"diverging\": [[0, \"#8e0152\"], [0.1, \"#c51b7d\"], [0.2, \"#de77ae\"], [0.3, \"#f1b6da\"], [0.4, \"#fde0ef\"], [0.5, \"#f7f7f7\"], [0.6, \"#e6f5d0\"], [0.7, \"#b8e186\"], [0.8, \"#7fbc41\"], [0.9, \"#4d9221\"], [1, \"#276419\"]], \"sequential\": [[0.0, \"#0d0887\"], [0.1111111111111111, \"#46039f\"], [0.2222222222222222, \"#7201a8\"], [0.3333333333333333, \"#9c179e\"], [0.4444444444444444, \"#bd3786\"], [0.5555555555555556, \"#d8576b\"], [0.6666666666666666, \"#ed7953\"], [0.7777777777777778, \"#fb9f3a\"], [0.8888888888888888, \"#fdca26\"], [1.0, \"#f0f921\"]], \"sequentialminus\": [[0.0, \"#0d0887\"], [0.1111111111111111, \"#46039f\"], [0.2222222222222222, \"#7201a8\"], [0.3333333333333333, \"#9c179e\"], [0.4444444444444444, \"#bd3786\"], [0.5555555555555556, \"#d8576b\"], [0.6666666666666666, \"#ed7953\"], [0.7777777777777778, \"#fb9f3a\"], [0.8888888888888888, \"#fdca26\"], [1.0, \"#f0f921\"]]}, \"colorway\": [\"#636efa\", \"#EF553B\", \"#00cc96\", \"#ab63fa\", \"#FFA15A\", \"#19d3f3\", \"#FF6692\", \"#B6E880\", \"#FF97FF\", \"#FECB52\"], \"font\": {\"color\": \"#2a3f5f\"}, \"geo\": {\"bgcolor\": \"white\", \"lakecolor\": \"white\", \"landcolor\": \"#E5ECF6\", \"showlakes\": true, \"showland\": true, \"subunitcolor\": \"white\"}, \"hoverlabel\": {\"align\": \"left\"}, \"hovermode\": \"closest\", \"mapbox\": {\"style\": \"light\"}, \"paper_bgcolor\": \"white\", \"plot_bgcolor\": \"#E5ECF6\", \"polar\": {\"angularaxis\": {\"gridcolor\": \"white\", \"linecolor\": \"white\", \"ticks\": \"\"}, \"bgcolor\": \"#E5ECF6\", \"radialaxis\": {\"gridcolor\": \"white\", \"linecolor\": \"white\", \"ticks\": \"\"}}, \"scene\": {\"xaxis\": {\"backgroundcolor\": \"#E5ECF6\", \"gridcolor\": \"white\", \"gridwidth\": 2, \"linecolor\": \"white\", \"showbackground\": true, \"ticks\": \"\", \"zerolinecolor\": \"white\"}, \"yaxis\": {\"backgroundcolor\": \"#E5ECF6\", \"gridcolor\": \"white\", \"gridwidth\": 2, \"linecolor\": \"white\", \"showbackground\": true, \"ticks\": \"\", \"zerolinecolor\": \"white\"}, \"zaxis\": {\"backgroundcolor\": \"#E5ECF6\", \"gridcolor\": \"white\", \"gridwidth\": 2, \"linecolor\": \"white\", \"showbackground\": true, \"ticks\": \"\", \"zerolinecolor\": \"white\"}}, \"shapedefaults\": {\"line\": {\"color\": \"#2a3f5f\"}}, \"ternary\": {\"aaxis\": {\"gridcolor\": \"white\", \"linecolor\": \"white\", \"ticks\": \"\"}, \"baxis\": {\"gridcolor\": \"white\", \"linecolor\": \"white\", \"ticks\": \"\"}, \"bgcolor\": \"#E5ECF6\", \"caxis\": {\"gridcolor\": \"white\", \"linecolor\": \"white\", \"ticks\": \"\"}}, \"title\": {\"x\": 0.05}, \"xaxis\": {\"automargin\": true, \"gridcolor\": \"white\", \"linecolor\": \"white\", \"ticks\": \"\", \"title\": {\"standoff\": 15}, \"zerolinecolor\": \"white\", \"zerolinewidth\": 2}, \"yaxis\": {\"automargin\": true, \"gridcolor\": \"white\", \"linecolor\": \"white\", \"ticks\": \"\", \"title\": {\"standoff\": 15}, \"zerolinecolor\": \"white\", \"zerolinewidth\": 2}}}, \"title\": {\"text\": \"3d Plot for Rule Mining\"}, \"width\": 900},                        {\"responsive\": true}                    ).then(function(){\n",
       "                            \n",
       "var gd = document.getElementById('30493fa7-4fe1-4486-b54b-4f849fd86ef7');\n",
       "var x = new MutationObserver(function (mutations, observer) {{\n",
       "        var display = window.getComputedStyle(gd).display;\n",
       "        if (!display || display === 'none') {{\n",
       "            console.log([gd, 'removed!']);\n",
       "            Plotly.purge(gd);\n",
       "            observer.disconnect();\n",
       "        }}\n",
       "}});\n",
       "\n",
       "// Listen for the removal of the full notebook cells\n",
       "var notebookContainer = gd.closest('#notebook-container');\n",
       "if (notebookContainer) {{\n",
       "    x.observe(notebookContainer, {childList: true});\n",
       "}}\n",
       "\n",
       "// Listen for the clearing of the current output cell\n",
       "var outputEl = gd.closest('.output');\n",
       "if (outputEl) {{\n",
       "    x.observe(outputEl, {childList: true});\n",
       "}}\n",
       "\n",
       "                        })                };                });            </script>        </div>"
      ]
     },
     "metadata": {},
     "output_type": "display_data"
    }
   ],
   "source": [
    "plot_model(model2, plot = '3d')# interactive 3D graph"
   ]
  },
  {
   "cell_type": "code",
   "execution_count": 18,
   "metadata": {
    "execution": {
     "iopub.execute_input": "2021-02-22T23:45:24.787587Z",
     "iopub.status.busy": "2021-02-22T23:45:24.786452Z",
     "iopub.status.idle": "2021-02-22T23:45:24.790426Z",
     "shell.execute_reply": "2021-02-22T23:45:24.791111Z"
    },
    "papermill": {
     "duration": 0.081989,
     "end_time": "2021-02-22T23:45:24.791296",
     "exception": false,
     "start_time": "2021-02-22T23:45:24.709307",
     "status": "completed"
    },
    "tags": []
   },
   "outputs": [],
   "source": [
    "# This is commonly used in market basket analysis. This can be used to figure out what products to put in an aisle."
   ]
  }
 ],
 "metadata": {
  "kernelspec": {
   "display_name": "Python 3",
   "language": "python",
   "name": "python3"
  },
  "language_info": {
   "codemirror_mode": {
    "name": "ipython",
    "version": 3
   },
   "file_extension": ".py",
   "mimetype": "text/x-python",
   "name": "python",
   "nbconvert_exporter": "python",
   "pygments_lexer": "ipython3",
   "version": "3.7.9"
  },
  "papermill": {
   "default_parameters": {},
   "duration": 38.685299,
   "end_time": "2021-02-22T23:45:25.876871",
   "environment_variables": {},
   "exception": null,
   "input_path": "__notebook__.ipynb",
   "output_path": "__notebook__.ipynb",
   "parameters": {},
   "start_time": "2021-02-22T23:44:47.191572",
   "version": "2.2.2"
  }
 },
 "nbformat": 4,
 "nbformat_minor": 4
}
